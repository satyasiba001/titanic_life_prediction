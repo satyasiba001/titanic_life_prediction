{
 "cells": [
  {
   "cell_type": "code",
   "execution_count": 1,
   "id": "ca823668",
   "metadata": {
    "execution": {
     "iopub.execute_input": "2022-10-31T20:21:53.142416Z",
     "iopub.status.busy": "2022-10-31T20:21:53.141663Z",
     "iopub.status.idle": "2022-10-31T20:21:54.308144Z",
     "shell.execute_reply": "2022-10-31T20:21:54.307157Z"
    },
    "papermill": {
     "duration": 1.186016,
     "end_time": "2022-10-31T20:21:54.310809",
     "exception": false,
     "start_time": "2022-10-31T20:21:53.124793",
     "status": "completed"
    },
    "tags": []
   },
   "outputs": [],
   "source": [
    "import pandas as pd\n",
    "import numpy as np\n",
    "import seaborn as sns\n",
    "import matplotlib.pyplot as plt\n",
    "import warnings\n",
    "import sklearn\n",
    "warnings.filterwarnings('ignore')"
   ]
  },
  {
   "cell_type": "markdown",
   "id": "1596a81f",
   "metadata": {
    "papermill": {
     "duration": 0.015426,
     "end_time": "2022-10-31T20:21:54.340200",
     "exception": false,
     "start_time": "2022-10-31T20:21:54.324774",
     "status": "completed"
    },
    "tags": []
   },
   "source": [
    "# IMPORTING DATA"
   ]
  },
  {
   "cell_type": "code",
   "execution_count": 2,
   "id": "16dc304d",
   "metadata": {
    "execution": {
     "iopub.execute_input": "2022-10-31T20:21:54.369625Z",
     "iopub.status.busy": "2022-10-31T20:21:54.368714Z",
     "iopub.status.idle": "2022-10-31T20:21:54.399604Z",
     "shell.execute_reply": "2022-10-31T20:21:54.398747Z"
    },
    "papermill": {
     "duration": 0.048123,
     "end_time": "2022-10-31T20:21:54.402057",
     "exception": false,
     "start_time": "2022-10-31T20:21:54.353934",
     "status": "completed"
    },
    "tags": []
   },
   "outputs": [],
   "source": [
    "train = pd.read_csv('../input/titanic/train.csv')\n",
    "test = pd.read_csv('../input/titanic/test.csv')"
   ]
  },
  {
   "cell_type": "code",
   "execution_count": 3,
   "id": "66236719",
   "metadata": {
    "execution": {
     "iopub.execute_input": "2022-10-31T20:21:54.432120Z",
     "iopub.status.busy": "2022-10-31T20:21:54.431349Z",
     "iopub.status.idle": "2022-10-31T20:21:54.454489Z",
     "shell.execute_reply": "2022-10-31T20:21:54.453709Z"
    },
    "papermill": {
     "duration": 0.040743,
     "end_time": "2022-10-31T20:21:54.456825",
     "exception": false,
     "start_time": "2022-10-31T20:21:54.416082",
     "status": "completed"
    },
    "tags": []
   },
   "outputs": [
    {
     "data": {
      "text/html": [
       "<div>\n",
       "<style scoped>\n",
       "    .dataframe tbody tr th:only-of-type {\n",
       "        vertical-align: middle;\n",
       "    }\n",
       "\n",
       "    .dataframe tbody tr th {\n",
       "        vertical-align: top;\n",
       "    }\n",
       "\n",
       "    .dataframe thead th {\n",
       "        text-align: right;\n",
       "    }\n",
       "</style>\n",
       "<table border=\"1\" class=\"dataframe\">\n",
       "  <thead>\n",
       "    <tr style=\"text-align: right;\">\n",
       "      <th></th>\n",
       "      <th>PassengerId</th>\n",
       "      <th>Survived</th>\n",
       "      <th>Pclass</th>\n",
       "      <th>Name</th>\n",
       "      <th>Sex</th>\n",
       "      <th>Age</th>\n",
       "      <th>SibSp</th>\n",
       "      <th>Parch</th>\n",
       "      <th>Ticket</th>\n",
       "      <th>Fare</th>\n",
       "      <th>Cabin</th>\n",
       "      <th>Embarked</th>\n",
       "    </tr>\n",
       "  </thead>\n",
       "  <tbody>\n",
       "    <tr>\n",
       "      <th>0</th>\n",
       "      <td>1</td>\n",
       "      <td>0</td>\n",
       "      <td>3</td>\n",
       "      <td>Braund, Mr. Owen Harris</td>\n",
       "      <td>male</td>\n",
       "      <td>22.0</td>\n",
       "      <td>1</td>\n",
       "      <td>0</td>\n",
       "      <td>A/5 21171</td>\n",
       "      <td>7.2500</td>\n",
       "      <td>NaN</td>\n",
       "      <td>S</td>\n",
       "    </tr>\n",
       "    <tr>\n",
       "      <th>1</th>\n",
       "      <td>2</td>\n",
       "      <td>1</td>\n",
       "      <td>1</td>\n",
       "      <td>Cumings, Mrs. John Bradley (Florence Briggs Th...</td>\n",
       "      <td>female</td>\n",
       "      <td>38.0</td>\n",
       "      <td>1</td>\n",
       "      <td>0</td>\n",
       "      <td>PC 17599</td>\n",
       "      <td>71.2833</td>\n",
       "      <td>C85</td>\n",
       "      <td>C</td>\n",
       "    </tr>\n",
       "    <tr>\n",
       "      <th>2</th>\n",
       "      <td>3</td>\n",
       "      <td>1</td>\n",
       "      <td>3</td>\n",
       "      <td>Heikkinen, Miss. Laina</td>\n",
       "      <td>female</td>\n",
       "      <td>26.0</td>\n",
       "      <td>0</td>\n",
       "      <td>0</td>\n",
       "      <td>STON/O2. 3101282</td>\n",
       "      <td>7.9250</td>\n",
       "      <td>NaN</td>\n",
       "      <td>S</td>\n",
       "    </tr>\n",
       "    <tr>\n",
       "      <th>3</th>\n",
       "      <td>4</td>\n",
       "      <td>1</td>\n",
       "      <td>1</td>\n",
       "      <td>Futrelle, Mrs. Jacques Heath (Lily May Peel)</td>\n",
       "      <td>female</td>\n",
       "      <td>35.0</td>\n",
       "      <td>1</td>\n",
       "      <td>0</td>\n",
       "      <td>113803</td>\n",
       "      <td>53.1000</td>\n",
       "      <td>C123</td>\n",
       "      <td>S</td>\n",
       "    </tr>\n",
       "    <tr>\n",
       "      <th>4</th>\n",
       "      <td>5</td>\n",
       "      <td>0</td>\n",
       "      <td>3</td>\n",
       "      <td>Allen, Mr. William Henry</td>\n",
       "      <td>male</td>\n",
       "      <td>35.0</td>\n",
       "      <td>0</td>\n",
       "      <td>0</td>\n",
       "      <td>373450</td>\n",
       "      <td>8.0500</td>\n",
       "      <td>NaN</td>\n",
       "      <td>S</td>\n",
       "    </tr>\n",
       "  </tbody>\n",
       "</table>\n",
       "</div>"
      ],
      "text/plain": [
       "   PassengerId  Survived  Pclass  \\\n",
       "0            1         0       3   \n",
       "1            2         1       1   \n",
       "2            3         1       3   \n",
       "3            4         1       1   \n",
       "4            5         0       3   \n",
       "\n",
       "                                                Name     Sex   Age  SibSp  \\\n",
       "0                            Braund, Mr. Owen Harris    male  22.0      1   \n",
       "1  Cumings, Mrs. John Bradley (Florence Briggs Th...  female  38.0      1   \n",
       "2                             Heikkinen, Miss. Laina  female  26.0      0   \n",
       "3       Futrelle, Mrs. Jacques Heath (Lily May Peel)  female  35.0      1   \n",
       "4                           Allen, Mr. William Henry    male  35.0      0   \n",
       "\n",
       "   Parch            Ticket     Fare Cabin Embarked  \n",
       "0      0         A/5 21171   7.2500   NaN        S  \n",
       "1      0          PC 17599  71.2833   C85        C  \n",
       "2      0  STON/O2. 3101282   7.9250   NaN        S  \n",
       "3      0            113803  53.1000  C123        S  \n",
       "4      0            373450   8.0500   NaN        S  "
      ]
     },
     "execution_count": 3,
     "metadata": {},
     "output_type": "execute_result"
    }
   ],
   "source": [
    "train.head()"
   ]
  },
  {
   "cell_type": "code",
   "execution_count": 4,
   "id": "8cf3f1bb",
   "metadata": {
    "execution": {
     "iopub.execute_input": "2022-10-31T20:21:54.486070Z",
     "iopub.status.busy": "2022-10-31T20:21:54.485459Z",
     "iopub.status.idle": "2022-10-31T20:21:54.527041Z",
     "shell.execute_reply": "2022-10-31T20:21:54.525952Z"
    },
    "papermill": {
     "duration": 0.059034,
     "end_time": "2022-10-31T20:21:54.529494",
     "exception": false,
     "start_time": "2022-10-31T20:21:54.470460",
     "status": "completed"
    },
    "tags": []
   },
   "outputs": [
    {
     "data": {
      "text/html": [
       "<div>\n",
       "<style scoped>\n",
       "    .dataframe tbody tr th:only-of-type {\n",
       "        vertical-align: middle;\n",
       "    }\n",
       "\n",
       "    .dataframe tbody tr th {\n",
       "        vertical-align: top;\n",
       "    }\n",
       "\n",
       "    .dataframe thead th {\n",
       "        text-align: right;\n",
       "    }\n",
       "</style>\n",
       "<table border=\"1\" class=\"dataframe\">\n",
       "  <thead>\n",
       "    <tr style=\"text-align: right;\">\n",
       "      <th></th>\n",
       "      <th>PassengerId</th>\n",
       "      <th>Survived</th>\n",
       "      <th>Pclass</th>\n",
       "      <th>Age</th>\n",
       "      <th>SibSp</th>\n",
       "      <th>Parch</th>\n",
       "      <th>Fare</th>\n",
       "    </tr>\n",
       "  </thead>\n",
       "  <tbody>\n",
       "    <tr>\n",
       "      <th>count</th>\n",
       "      <td>891.000000</td>\n",
       "      <td>891.000000</td>\n",
       "      <td>891.000000</td>\n",
       "      <td>714.000000</td>\n",
       "      <td>891.000000</td>\n",
       "      <td>891.000000</td>\n",
       "      <td>891.000000</td>\n",
       "    </tr>\n",
       "    <tr>\n",
       "      <th>mean</th>\n",
       "      <td>446.000000</td>\n",
       "      <td>0.383838</td>\n",
       "      <td>2.308642</td>\n",
       "      <td>29.699118</td>\n",
       "      <td>0.523008</td>\n",
       "      <td>0.381594</td>\n",
       "      <td>32.204208</td>\n",
       "    </tr>\n",
       "    <tr>\n",
       "      <th>std</th>\n",
       "      <td>257.353842</td>\n",
       "      <td>0.486592</td>\n",
       "      <td>0.836071</td>\n",
       "      <td>14.526497</td>\n",
       "      <td>1.102743</td>\n",
       "      <td>0.806057</td>\n",
       "      <td>49.693429</td>\n",
       "    </tr>\n",
       "    <tr>\n",
       "      <th>min</th>\n",
       "      <td>1.000000</td>\n",
       "      <td>0.000000</td>\n",
       "      <td>1.000000</td>\n",
       "      <td>0.420000</td>\n",
       "      <td>0.000000</td>\n",
       "      <td>0.000000</td>\n",
       "      <td>0.000000</td>\n",
       "    </tr>\n",
       "    <tr>\n",
       "      <th>25%</th>\n",
       "      <td>223.500000</td>\n",
       "      <td>0.000000</td>\n",
       "      <td>2.000000</td>\n",
       "      <td>20.125000</td>\n",
       "      <td>0.000000</td>\n",
       "      <td>0.000000</td>\n",
       "      <td>7.910400</td>\n",
       "    </tr>\n",
       "    <tr>\n",
       "      <th>50%</th>\n",
       "      <td>446.000000</td>\n",
       "      <td>0.000000</td>\n",
       "      <td>3.000000</td>\n",
       "      <td>28.000000</td>\n",
       "      <td>0.000000</td>\n",
       "      <td>0.000000</td>\n",
       "      <td>14.454200</td>\n",
       "    </tr>\n",
       "    <tr>\n",
       "      <th>75%</th>\n",
       "      <td>668.500000</td>\n",
       "      <td>1.000000</td>\n",
       "      <td>3.000000</td>\n",
       "      <td>38.000000</td>\n",
       "      <td>1.000000</td>\n",
       "      <td>0.000000</td>\n",
       "      <td>31.000000</td>\n",
       "    </tr>\n",
       "    <tr>\n",
       "      <th>max</th>\n",
       "      <td>891.000000</td>\n",
       "      <td>1.000000</td>\n",
       "      <td>3.000000</td>\n",
       "      <td>80.000000</td>\n",
       "      <td>8.000000</td>\n",
       "      <td>6.000000</td>\n",
       "      <td>512.329200</td>\n",
       "    </tr>\n",
       "  </tbody>\n",
       "</table>\n",
       "</div>"
      ],
      "text/plain": [
       "       PassengerId    Survived      Pclass         Age       SibSp  \\\n",
       "count   891.000000  891.000000  891.000000  714.000000  891.000000   \n",
       "mean    446.000000    0.383838    2.308642   29.699118    0.523008   \n",
       "std     257.353842    0.486592    0.836071   14.526497    1.102743   \n",
       "min       1.000000    0.000000    1.000000    0.420000    0.000000   \n",
       "25%     223.500000    0.000000    2.000000   20.125000    0.000000   \n",
       "50%     446.000000    0.000000    3.000000   28.000000    0.000000   \n",
       "75%     668.500000    1.000000    3.000000   38.000000    1.000000   \n",
       "max     891.000000    1.000000    3.000000   80.000000    8.000000   \n",
       "\n",
       "            Parch        Fare  \n",
       "count  891.000000  891.000000  \n",
       "mean     0.381594   32.204208  \n",
       "std      0.806057   49.693429  \n",
       "min      0.000000    0.000000  \n",
       "25%      0.000000    7.910400  \n",
       "50%      0.000000   14.454200  \n",
       "75%      0.000000   31.000000  \n",
       "max      6.000000  512.329200  "
      ]
     },
     "execution_count": 4,
     "metadata": {},
     "output_type": "execute_result"
    }
   ],
   "source": [
    "#STASTICAL DATA\n",
    "train.describe()"
   ]
  },
  {
   "cell_type": "code",
   "execution_count": 5,
   "id": "bb9d0f3a",
   "metadata": {
    "execution": {
     "iopub.execute_input": "2022-10-31T20:21:54.559449Z",
     "iopub.status.busy": "2022-10-31T20:21:54.558726Z",
     "iopub.status.idle": "2022-10-31T20:21:54.576665Z",
     "shell.execute_reply": "2022-10-31T20:21:54.575080Z"
    },
    "papermill": {
     "duration": 0.035598,
     "end_time": "2022-10-31T20:21:54.579259",
     "exception": false,
     "start_time": "2022-10-31T20:21:54.543661",
     "status": "completed"
    },
    "tags": []
   },
   "outputs": [
    {
     "name": "stdout",
     "output_type": "stream",
     "text": [
      "<class 'pandas.core.frame.DataFrame'>\n",
      "RangeIndex: 891 entries, 0 to 890\n",
      "Data columns (total 12 columns):\n",
      " #   Column       Non-Null Count  Dtype  \n",
      "---  ------       --------------  -----  \n",
      " 0   PassengerId  891 non-null    int64  \n",
      " 1   Survived     891 non-null    int64  \n",
      " 2   Pclass       891 non-null    int64  \n",
      " 3   Name         891 non-null    object \n",
      " 4   Sex          891 non-null    object \n",
      " 5   Age          714 non-null    float64\n",
      " 6   SibSp        891 non-null    int64  \n",
      " 7   Parch        891 non-null    int64  \n",
      " 8   Ticket       891 non-null    object \n",
      " 9   Fare         891 non-null    float64\n",
      " 10  Cabin        204 non-null    object \n",
      " 11  Embarked     889 non-null    object \n",
      "dtypes: float64(2), int64(5), object(5)\n",
      "memory usage: 83.7+ KB\n"
     ]
    }
   ],
   "source": [
    " train.info()"
   ]
  },
  {
   "cell_type": "code",
   "execution_count": 6,
   "id": "7bb3cf47",
   "metadata": {
    "execution": {
     "iopub.execute_input": "2022-10-31T20:21:54.609276Z",
     "iopub.status.busy": "2022-10-31T20:21:54.608821Z",
     "iopub.status.idle": "2022-10-31T20:21:54.815006Z",
     "shell.execute_reply": "2022-10-31T20:21:54.813803Z"
    },
    "papermill": {
     "duration": 0.224295,
     "end_time": "2022-10-31T20:21:54.817690",
     "exception": false,
     "start_time": "2022-10-31T20:21:54.593395",
     "status": "completed"
    },
    "tags": []
   },
   "outputs": [
    {
     "data": {
      "text/plain": [
       "<AxesSubplot:xlabel='Survived', ylabel='count'>"
      ]
     },
     "execution_count": 6,
     "metadata": {},
     "output_type": "execute_result"
    },
    {
     "data": {
      "image/png": "[encoded data removed]",
      "text/plain": [
       "<Figure size 432x288 with 1 Axes>"
      ]
     },
     "metadata": {
      "needs_background": "light"
     },
     "output_type": "display_data"
    }
   ],
   "source": [
    "sns.countplot(train['Survived'])"
   ]
  },
  {
   "cell_type": "code",
   "execution_count": 7,
   "id": "22761678",
   "metadata": {
    "execution": {
     "iopub.execute_input": "2022-10-31T20:21:54.849585Z",
     "iopub.status.busy": "2022-10-31T20:21:54.848520Z",
     "iopub.status.idle": "2022-10-31T20:21:55.006774Z",
     "shell.execute_reply": "2022-10-31T20:21:55.005473Z"
    },
    "papermill": {
     "duration": 0.177536,
     "end_time": "2022-10-31T20:21:55.010062",
     "exception": false,
     "start_time": "2022-10-31T20:21:54.832526",
     "status": "completed"
    },
    "tags": []
   },
   "outputs": [
    {
     "data": {
      "text/plain": [
       "<AxesSubplot:xlabel='Pclass', ylabel='count'>"
      ]
     },
     "execution_count": 7,
     "metadata": {},
     "output_type": "execute_result"
    },
    {
     "data": {
      "image/png": "[encoded data removed]",
      "text/plain": [
       "<Figure size 432x288 with 1 Axes>"
      ]
     },
     "metadata": {
      "needs_background": "light"
     },
     "output_type": "display_data"
    }
   ],
   "source": [
    "sns.countplot(train['Pclass'])"
   ]
  },
  {
   "cell_type": "code",
   "execution_count": 8,
   "id": "61290d53",
   "metadata": {
    "execution": {
     "iopub.execute_input": "2022-10-31T20:21:55.049656Z",
     "iopub.status.busy": "2022-10-31T20:21:55.048843Z",
     "iopub.status.idle": "2022-10-31T20:21:55.166299Z",
     "shell.execute_reply": "2022-10-31T20:21:55.165072Z"
    },
    "papermill": {
     "duration": 0.141347,
     "end_time": "2022-10-31T20:21:55.169428",
     "exception": false,
     "start_time": "2022-10-31T20:21:55.028081",
     "status": "completed"
    },
    "tags": []
   },
   "outputs": [
    {
     "data": {
      "text/plain": [
       "<AxesSubplot:xlabel='Sex', ylabel='count'>"
      ]
     },
     "execution_count": 8,
     "metadata": {},
     "output_type": "execute_result"
    },
    {
     "data": {
      "image/png": "[encoded data removed]",
      "text/plain": [
       "<Figure size 432x288 with 1 Axes>"
      ]
     },
     "metadata": {
      "needs_background": "light"
     },
     "output_type": "display_data"
    }
   ],
   "source": [
    "sns.countplot(train['Sex'])"
   ]
  },
  {
   "cell_type": "code",
   "execution_count": 9,
   "id": "3ae777fc",
   "metadata": {
    "execution": {
     "iopub.execute_input": "2022-10-31T20:21:55.214944Z",
     "iopub.status.busy": "2022-10-31T20:21:55.214249Z",
     "iopub.status.idle": "2022-10-31T20:21:55.412642Z",
     "shell.execute_reply": "2022-10-31T20:21:55.411739Z"
    },
    "papermill": {
     "duration": 0.221084,
     "end_time": "2022-10-31T20:21:55.414754",
     "exception": false,
     "start_time": "2022-10-31T20:21:55.193670",
     "status": "completed"
    },
    "tags": []
   },
   "outputs": [
    {
     "data": {
      "text/plain": [
       "<AxesSubplot:xlabel='SibSp', ylabel='count'>"
      ]
     },
     "execution_count": 9,
     "metadata": {},
     "output_type": "execute_result"
    },
    {
     "data": {
      "image/png": "[encoded data removed]",
      "text/plain": [
       "<Figure size 432x288 with 1 Axes>"
      ]
     },
     "metadata": {
      "needs_background": "light"
     },
     "output_type": "display_data"
    }
   ],
   "source": [
    "sns.countplot(train['SibSp'])"
   ]
  },
  {
   "cell_type": "code",
   "execution_count": 10,
   "id": "e9b6c3dd",
   "metadata": {
    "execution": {
     "iopub.execute_input": "2022-10-31T20:21:55.447304Z",
     "iopub.status.busy": "2022-10-31T20:21:55.446874Z",
     "iopub.status.idle": "2022-10-31T20:21:55.645501Z",
     "shell.execute_reply": "2022-10-31T20:21:55.644677Z"
    },
    "papermill": {
     "duration": 0.217468,
     "end_time": "2022-10-31T20:21:55.647662",
     "exception": false,
     "start_time": "2022-10-31T20:21:55.430194",
     "status": "completed"
    },
    "tags": []
   },
   "outputs": [
    {
     "data": {
      "text/plain": [
       "<AxesSubplot:xlabel='Parch', ylabel='count'>"
      ]
     },
     "execution_count": 10,
     "metadata": {},
     "output_type": "execute_result"
    },
    {
     "data": {
      "image/png": "[encoded data removed]",
      "text/plain": [
       "<Figure size 432x288 with 1 Axes>"
      ]
     },
     "metadata": {
      "needs_background": "light"
     },
     "output_type": "display_data"
    }
   ],
   "source": [
    "sns.countplot(train['Parch'])"
   ]
  },
  {
   "cell_type": "code",
   "execution_count": 11,
   "id": "21f01309",
   "metadata": {
    "execution": {
     "iopub.execute_input": "2022-10-31T20:21:55.682389Z",
     "iopub.status.busy": "2022-10-31T20:21:55.681621Z",
     "iopub.status.idle": "2022-10-31T20:21:55.846031Z",
     "shell.execute_reply": "2022-10-31T20:21:55.845254Z"
    },
    "papermill": {
     "duration": 0.183853,
     "end_time": "2022-10-31T20:21:55.848128",
     "exception": false,
     "start_time": "2022-10-31T20:21:55.664275",
     "status": "completed"
    },
    "tags": []
   },
   "outputs": [
    {
     "data": {
      "text/plain": [
       "<AxesSubplot:xlabel='Embarked', ylabel='count'>"
      ]
     },
     "execution_count": 11,
     "metadata": {},
     "output_type": "execute_result"
    },
    {
     "data": {
      "image/png": "[encoded data removed]",
      "text/plain": [
       "<Figure size 432x288 with 1 Axes>"
      ]
     },
     "metadata": {
      "needs_background": "light"
     },
     "output_type": "display_data"
    }
   ],
   "source": [
    "sns.countplot(train['Embarked'])"
   ]
  },
  {
   "cell_type": "code",
   "execution_count": 12,
   "id": "3b9e7dd8",
   "metadata": {
    "execution": {
     "iopub.execute_input": "2022-10-31T20:21:55.881606Z",
     "iopub.status.busy": "2022-10-31T20:21:55.880927Z",
     "iopub.status.idle": "2022-10-31T20:21:56.192668Z",
     "shell.execute_reply": "2022-10-31T20:21:56.191301Z"
    },
    "papermill": {
     "duration": 0.331123,
     "end_time": "2022-10-31T20:21:56.195073",
     "exception": false,
     "start_time": "2022-10-31T20:21:55.863950",
     "status": "completed"
    },
    "tags": []
   },
   "outputs": [
    {
     "data": {
      "text/plain": [
       "<seaborn.axisgrid.FacetGrid at 0x7f0afcf43490>"
      ]
     },
     "execution_count": 12,
     "metadata": {},
     "output_type": "execute_result"
    },
    {
     "data": {
      "image/png": "[encoded data removed]",
      "text/plain": [
       "<Figure size 360x360 with 1 Axes>"
      ]
     },
     "metadata": {
      "needs_background": "light"
     },
     "output_type": "display_data"
    }
   ],
   "source": [
    "sns.displot(train['Age'])"
   ]
  },
  {
   "cell_type": "code",
   "execution_count": 13,
   "id": "eb986207",
   "metadata": {
    "execution": {
     "iopub.execute_input": "2022-10-31T20:21:56.229782Z",
     "iopub.status.busy": "2022-10-31T20:21:56.228909Z",
     "iopub.status.idle": "2022-10-31T20:21:56.732637Z",
     "shell.execute_reply": "2022-10-31T20:21:56.731166Z"
    },
    "papermill": {
     "duration": 0.523755,
     "end_time": "2022-10-31T20:21:56.735136",
     "exception": false,
     "start_time": "2022-10-31T20:21:56.211381",
     "status": "completed"
    },
    "tags": []
   },
   "outputs": [
    {
     "data": {
      "text/plain": [
       "<seaborn.axisgrid.FacetGrid at 0x7f0afcfa6590>"
      ]
     },
     "execution_count": 13,
     "metadata": {},
     "output_type": "execute_result"
    },
    {
     "data": {
      "image/png": "[encoded data removed]",
      "text/plain": [
       "<Figure size 360x360 with 1 Axes>"
      ]
     },
     "metadata": {
      "needs_background": "light"
     },
     "output_type": "display_data"
    }
   ],
   "source": [
    "sns.displot(train['Fare'])"
   ]
  },
  {
   "cell_type": "code",
   "execution_count": null,
   "id": "287fe476",
   "metadata": {
    "papermill": {
     "duration": 0.016586,
     "end_time": "2022-10-31T20:21:56.768833",
     "exception": false,
     "start_time": "2022-10-31T20:21:56.752247",
     "status": "completed"
    },
    "tags": []
   },
   "outputs": [],
   "source": []
  },
  {
   "cell_type": "markdown",
   "id": "3715f382",
   "metadata": {
    "papermill": {
     "duration": 0.016101,
     "end_time": "2022-10-31T20:21:56.802074",
     "exception": false,
     "start_time": "2022-10-31T20:21:56.785973",
     "status": "completed"
    },
    "tags": []
   },
   "source": [
    "# ****DATA PREPROCESSING****"
   ]
  },
  {
   "cell_type": "code",
   "execution_count": 14,
   "id": "684db33c",
   "metadata": {
    "execution": {
     "iopub.execute_input": "2022-10-31T20:21:56.837234Z",
     "iopub.status.busy": "2022-10-31T20:21:56.836771Z",
     "iopub.status.idle": "2022-10-31T20:21:56.841927Z",
     "shell.execute_reply": "2022-10-31T20:21:56.840616Z"
    },
    "papermill": {
     "duration": 0.025425,
     "end_time": "2022-10-31T20:21:56.844159",
     "exception": false,
     "start_time": "2022-10-31T20:21:56.818734",
     "status": "completed"
    },
    "tags": []
   },
   "outputs": [],
   "source": [
    "train_len = len(train)"
   ]
  },
  {
   "cell_type": "code",
   "execution_count": 15,
   "id": "db9efb04",
   "metadata": {
    "execution": {
     "iopub.execute_input": "2022-10-31T20:21:56.878829Z",
     "iopub.status.busy": "2022-10-31T20:21:56.878373Z",
     "iopub.status.idle": "2022-10-31T20:21:56.902224Z",
     "shell.execute_reply": "2022-10-31T20:21:56.901204Z"
    },
    "papermill": {
     "duration": 0.043978,
     "end_time": "2022-10-31T20:21:56.904611",
     "exception": false,
     "start_time": "2022-10-31T20:21:56.860633",
     "status": "completed"
    },
    "tags": []
   },
   "outputs": [
    {
     "data": {
      "text/html": [
       "<div>\n",
       "<style scoped>\n",
       "    .dataframe tbody tr th:only-of-type {\n",
       "        vertical-align: middle;\n",
       "    }\n",
       "\n",
       "    .dataframe tbody tr th {\n",
       "        vertical-align: top;\n",
       "    }\n",
       "\n",
       "    .dataframe thead th {\n",
       "        text-align: right;\n",
       "    }\n",
       "</style>\n",
       "<table border=\"1\" class=\"dataframe\">\n",
       "  <thead>\n",
       "    <tr style=\"text-align: right;\">\n",
       "      <th></th>\n",
       "      <th>PassengerId</th>\n",
       "      <th>Survived</th>\n",
       "      <th>Pclass</th>\n",
       "      <th>Name</th>\n",
       "      <th>Sex</th>\n",
       "      <th>Age</th>\n",
       "      <th>SibSp</th>\n",
       "      <th>Parch</th>\n",
       "      <th>Ticket</th>\n",
       "      <th>Fare</th>\n",
       "      <th>Cabin</th>\n",
       "      <th>Embarked</th>\n",
       "    </tr>\n",
       "  </thead>\n",
       "  <tbody>\n",
       "    <tr>\n",
       "      <th>1304</th>\n",
       "      <td>1305</td>\n",
       "      <td>NaN</td>\n",
       "      <td>3</td>\n",
       "      <td>Spector, Mr. Woolf</td>\n",
       "      <td>male</td>\n",
       "      <td>NaN</td>\n",
       "      <td>0</td>\n",
       "      <td>0</td>\n",
       "      <td>A.5. 3236</td>\n",
       "      <td>8.0500</td>\n",
       "      <td>NaN</td>\n",
       "      <td>S</td>\n",
       "    </tr>\n",
       "    <tr>\n",
       "      <th>1305</th>\n",
       "      <td>1306</td>\n",
       "      <td>NaN</td>\n",
       "      <td>1</td>\n",
       "      <td>Oliva y Ocana, Dona. Fermina</td>\n",
       "      <td>female</td>\n",
       "      <td>39.0</td>\n",
       "      <td>0</td>\n",
       "      <td>0</td>\n",
       "      <td>PC 17758</td>\n",
       "      <td>108.9000</td>\n",
       "      <td>C105</td>\n",
       "      <td>C</td>\n",
       "    </tr>\n",
       "    <tr>\n",
       "      <th>1306</th>\n",
       "      <td>1307</td>\n",
       "      <td>NaN</td>\n",
       "      <td>3</td>\n",
       "      <td>Saether, Mr. Simon Sivertsen</td>\n",
       "      <td>male</td>\n",
       "      <td>38.5</td>\n",
       "      <td>0</td>\n",
       "      <td>0</td>\n",
       "      <td>SOTON/O.Q. 3101262</td>\n",
       "      <td>7.2500</td>\n",
       "      <td>NaN</td>\n",
       "      <td>S</td>\n",
       "    </tr>\n",
       "    <tr>\n",
       "      <th>1307</th>\n",
       "      <td>1308</td>\n",
       "      <td>NaN</td>\n",
       "      <td>3</td>\n",
       "      <td>Ware, Mr. Frederick</td>\n",
       "      <td>male</td>\n",
       "      <td>NaN</td>\n",
       "      <td>0</td>\n",
       "      <td>0</td>\n",
       "      <td>359309</td>\n",
       "      <td>8.0500</td>\n",
       "      <td>NaN</td>\n",
       "      <td>S</td>\n",
       "    </tr>\n",
       "    <tr>\n",
       "      <th>1308</th>\n",
       "      <td>1309</td>\n",
       "      <td>NaN</td>\n",
       "      <td>3</td>\n",
       "      <td>Peter, Master. Michael J</td>\n",
       "      <td>male</td>\n",
       "      <td>NaN</td>\n",
       "      <td>1</td>\n",
       "      <td>1</td>\n",
       "      <td>2668</td>\n",
       "      <td>22.3583</td>\n",
       "      <td>NaN</td>\n",
       "      <td>C</td>\n",
       "    </tr>\n",
       "  </tbody>\n",
       "</table>\n",
       "</div>"
      ],
      "text/plain": [
       "      PassengerId  Survived  Pclass                          Name     Sex  \\\n",
       "1304         1305       NaN       3            Spector, Mr. Woolf    male   \n",
       "1305         1306       NaN       1  Oliva y Ocana, Dona. Fermina  female   \n",
       "1306         1307       NaN       3  Saether, Mr. Simon Sivertsen    male   \n",
       "1307         1308       NaN       3           Ware, Mr. Frederick    male   \n",
       "1308         1309       NaN       3      Peter, Master. Michael J    male   \n",
       "\n",
       "       Age  SibSp  Parch              Ticket      Fare Cabin Embarked  \n",
       "1304   NaN      0      0           A.5. 3236    8.0500   NaN        S  \n",
       "1305  39.0      0      0            PC 17758  108.9000  C105        C  \n",
       "1306  38.5      0      0  SOTON/O.Q. 3101262    7.2500   NaN        S  \n",
       "1307   NaN      0      0              359309    8.0500   NaN        S  \n",
       "1308   NaN      1      1                2668   22.3583   NaN        C  "
      ]
     },
     "execution_count": 15,
     "metadata": {},
     "output_type": "execute_result"
    }
   ],
   "source": [
    "df = pd.concat([train,test],axis = 0)\n",
    "df = df.reset_index(drop = True)\n",
    "df.tail()"
   ]
  },
  {
   "cell_type": "code",
   "execution_count": 16,
   "id": "61b62785",
   "metadata": {
    "execution": {
     "iopub.execute_input": "2022-10-31T20:21:56.939854Z",
     "iopub.status.busy": "2022-10-31T20:21:56.939434Z",
     "iopub.status.idle": "2022-10-31T20:21:56.949186Z",
     "shell.execute_reply": "2022-10-31T20:21:56.947980Z"
    },
    "papermill": {
     "duration": 0.030065,
     "end_time": "2022-10-31T20:21:56.951438",
     "exception": false,
     "start_time": "2022-10-31T20:21:56.921373",
     "status": "completed"
    },
    "tags": []
   },
   "outputs": [
    {
     "data": {
      "text/plain": [
       "PassengerId       0\n",
       "Survived        418\n",
       "Pclass            0\n",
       "Name              0\n",
       "Sex               0\n",
       "Age             263\n",
       "SibSp             0\n",
       "Parch             0\n",
       "Ticket            0\n",
       "Fare              1\n",
       "Cabin          1014\n",
       "Embarked          2\n",
       "dtype: int64"
      ]
     },
     "execution_count": 16,
     "metadata": {},
     "output_type": "execute_result"
    }
   ],
   "source": [
    "df.isnull().sum()"
   ]
  },
  {
   "cell_type": "code",
   "execution_count": 17,
   "id": "9bb05c9d",
   "metadata": {
    "execution": {
     "iopub.execute_input": "2022-10-31T20:21:56.987851Z",
     "iopub.status.busy": "2022-10-31T20:21:56.987437Z",
     "iopub.status.idle": "2022-10-31T20:21:56.993604Z",
     "shell.execute_reply": "2022-10-31T20:21:56.992541Z"
    },
    "papermill": {
     "duration": 0.027222,
     "end_time": "2022-10-31T20:21:56.995936",
     "exception": false,
     "start_time": "2022-10-31T20:21:56.968714",
     "status": "completed"
    },
    "tags": []
   },
   "outputs": [],
   "source": [
    "df.drop(['Cabin'],axis=1,inplace=True)"
   ]
  },
  {
   "cell_type": "code",
   "execution_count": 18,
   "id": "dd3eacd2",
   "metadata": {
    "execution": {
     "iopub.execute_input": "2022-10-31T20:21:57.032428Z",
     "iopub.status.busy": "2022-10-31T20:21:57.031900Z",
     "iopub.status.idle": "2022-10-31T20:21:57.049373Z",
     "shell.execute_reply": "2022-10-31T20:21:57.048289Z"
    },
    "papermill": {
     "duration": 0.038086,
     "end_time": "2022-10-31T20:21:57.051679",
     "exception": false,
     "start_time": "2022-10-31T20:21:57.013593",
     "status": "completed"
    },
    "tags": []
   },
   "outputs": [
    {
     "data": {
      "text/html": [
       "<div>\n",
       "<style scoped>\n",
       "    .dataframe tbody tr th:only-of-type {\n",
       "        vertical-align: middle;\n",
       "    }\n",
       "\n",
       "    .dataframe tbody tr th {\n",
       "        vertical-align: top;\n",
       "    }\n",
       "\n",
       "    .dataframe thead th {\n",
       "        text-align: right;\n",
       "    }\n",
       "</style>\n",
       "<table border=\"1\" class=\"dataframe\">\n",
       "  <thead>\n",
       "    <tr style=\"text-align: right;\">\n",
       "      <th></th>\n",
       "      <th>PassengerId</th>\n",
       "      <th>Survived</th>\n",
       "      <th>Pclass</th>\n",
       "      <th>Name</th>\n",
       "      <th>Sex</th>\n",
       "      <th>Age</th>\n",
       "      <th>SibSp</th>\n",
       "      <th>Parch</th>\n",
       "      <th>Ticket</th>\n",
       "      <th>Fare</th>\n",
       "      <th>Embarked</th>\n",
       "    </tr>\n",
       "  </thead>\n",
       "  <tbody>\n",
       "    <tr>\n",
       "      <th>1304</th>\n",
       "      <td>1305</td>\n",
       "      <td>NaN</td>\n",
       "      <td>3</td>\n",
       "      <td>Spector, Mr. Woolf</td>\n",
       "      <td>male</td>\n",
       "      <td>NaN</td>\n",
       "      <td>0</td>\n",
       "      <td>0</td>\n",
       "      <td>A.5. 3236</td>\n",
       "      <td>8.0500</td>\n",
       "      <td>S</td>\n",
       "    </tr>\n",
       "    <tr>\n",
       "      <th>1305</th>\n",
       "      <td>1306</td>\n",
       "      <td>NaN</td>\n",
       "      <td>1</td>\n",
       "      <td>Oliva y Ocana, Dona. Fermina</td>\n",
       "      <td>female</td>\n",
       "      <td>39.0</td>\n",
       "      <td>0</td>\n",
       "      <td>0</td>\n",
       "      <td>PC 17758</td>\n",
       "      <td>108.9000</td>\n",
       "      <td>C</td>\n",
       "    </tr>\n",
       "    <tr>\n",
       "      <th>1306</th>\n",
       "      <td>1307</td>\n",
       "      <td>NaN</td>\n",
       "      <td>3</td>\n",
       "      <td>Saether, Mr. Simon Sivertsen</td>\n",
       "      <td>male</td>\n",
       "      <td>38.5</td>\n",
       "      <td>0</td>\n",
       "      <td>0</td>\n",
       "      <td>SOTON/O.Q. 3101262</td>\n",
       "      <td>7.2500</td>\n",
       "      <td>S</td>\n",
       "    </tr>\n",
       "    <tr>\n",
       "      <th>1307</th>\n",
       "      <td>1308</td>\n",
       "      <td>NaN</td>\n",
       "      <td>3</td>\n",
       "      <td>Ware, Mr. Frederick</td>\n",
       "      <td>male</td>\n",
       "      <td>NaN</td>\n",
       "      <td>0</td>\n",
       "      <td>0</td>\n",
       "      <td>359309</td>\n",
       "      <td>8.0500</td>\n",
       "      <td>S</td>\n",
       "    </tr>\n",
       "    <tr>\n",
       "      <th>1308</th>\n",
       "      <td>1309</td>\n",
       "      <td>NaN</td>\n",
       "      <td>3</td>\n",
       "      <td>Peter, Master. Michael J</td>\n",
       "      <td>male</td>\n",
       "      <td>NaN</td>\n",
       "      <td>1</td>\n",
       "      <td>1</td>\n",
       "      <td>2668</td>\n",
       "      <td>22.3583</td>\n",
       "      <td>C</td>\n",
       "    </tr>\n",
       "  </tbody>\n",
       "</table>\n",
       "</div>"
      ],
      "text/plain": [
       "      PassengerId  Survived  Pclass                          Name     Sex  \\\n",
       "1304         1305       NaN       3            Spector, Mr. Woolf    male   \n",
       "1305         1306       NaN       1  Oliva y Ocana, Dona. Fermina  female   \n",
       "1306         1307       NaN       3  Saether, Mr. Simon Sivertsen    male   \n",
       "1307         1308       NaN       3           Ware, Mr. Frederick    male   \n",
       "1308         1309       NaN       3      Peter, Master. Michael J    male   \n",
       "\n",
       "       Age  SibSp  Parch              Ticket      Fare Embarked  \n",
       "1304   NaN      0      0           A.5. 3236    8.0500        S  \n",
       "1305  39.0      0      0            PC 17758  108.9000        C  \n",
       "1306  38.5      0      0  SOTON/O.Q. 3101262    7.2500        S  \n",
       "1307   NaN      0      0              359309    8.0500        S  \n",
       "1308   NaN      1      1                2668   22.3583        C  "
      ]
     },
     "execution_count": 18,
     "metadata": {},
     "output_type": "execute_result"
    }
   ],
   "source": [
    "df.tail()"
   ]
  },
  {
   "cell_type": "code",
   "execution_count": 19,
   "id": "8eda4758",
   "metadata": {
    "execution": {
     "iopub.execute_input": "2022-10-31T20:21:57.087725Z",
     "iopub.status.busy": "2022-10-31T20:21:57.087312Z",
     "iopub.status.idle": "2022-10-31T20:21:57.096218Z",
     "shell.execute_reply": "2022-10-31T20:21:57.095377Z"
    },
    "papermill": {
     "duration": 0.029372,
     "end_time": "2022-10-31T20:21:57.098317",
     "exception": false,
     "start_time": "2022-10-31T20:21:57.068945",
     "status": "completed"
    },
    "tags": []
   },
   "outputs": [
    {
     "data": {
      "text/plain": [
       "PassengerId      0\n",
       "Survived       418\n",
       "Pclass           0\n",
       "Name             0\n",
       "Sex              0\n",
       "Age            263\n",
       "SibSp            0\n",
       "Parch            0\n",
       "Ticket           0\n",
       "Fare             1\n",
       "Embarked         2\n",
       "dtype: int64"
      ]
     },
     "execution_count": 19,
     "metadata": {},
     "output_type": "execute_result"
    }
   ],
   "source": [
    "df.isnull().sum()"
   ]
  },
  {
   "cell_type": "code",
   "execution_count": 20,
   "id": "748c4600",
   "metadata": {
    "execution": {
     "iopub.execute_input": "2022-10-31T20:21:57.135597Z",
     "iopub.status.busy": "2022-10-31T20:21:57.135180Z",
     "iopub.status.idle": "2022-10-31T20:21:57.143041Z",
     "shell.execute_reply": "2022-10-31T20:21:57.141849Z"
    },
    "papermill": {
     "duration": 0.02901,
     "end_time": "2022-10-31T20:21:57.145293",
     "exception": false,
     "start_time": "2022-10-31T20:21:57.116283",
     "status": "completed"
    },
    "tags": []
   },
   "outputs": [],
   "source": [
    "#FILL MISSING VALUE OF NUMERICAL COLUMN USING MEAN OF THE VALUES\n",
    "df['Age']= df['Age'].fillna(df['Age'].mean())\n",
    "df['Fare']=df['Fare'].fillna(df['Fare'].mean())"
   ]
  },
  {
   "cell_type": "code",
   "execution_count": 21,
   "id": "29187350",
   "metadata": {
    "execution": {
     "iopub.execute_input": "2022-10-31T20:21:57.181083Z",
     "iopub.status.busy": "2022-10-31T20:21:57.180642Z",
     "iopub.status.idle": "2022-10-31T20:21:57.190681Z",
     "shell.execute_reply": "2022-10-31T20:21:57.189677Z"
    },
    "papermill": {
     "duration": 0.030286,
     "end_time": "2022-10-31T20:21:57.192765",
     "exception": false,
     "start_time": "2022-10-31T20:21:57.162479",
     "status": "completed"
    },
    "tags": []
   },
   "outputs": [
    {
     "data": {
      "text/plain": [
       "PassengerId      0\n",
       "Survived       418\n",
       "Pclass           0\n",
       "Name             0\n",
       "Sex              0\n",
       "Age              0\n",
       "SibSp            0\n",
       "Parch            0\n",
       "Ticket           0\n",
       "Fare             0\n",
       "Embarked         2\n",
       "dtype: int64"
      ]
     },
     "execution_count": 21,
     "metadata": {},
     "output_type": "execute_result"
    }
   ],
   "source": [
    "df.isnull().sum()"
   ]
  },
  {
   "cell_type": "code",
   "execution_count": 22,
   "id": "cbddb59c",
   "metadata": {
    "execution": {
     "iopub.execute_input": "2022-10-31T20:21:57.230664Z",
     "iopub.status.busy": "2022-10-31T20:21:57.230292Z",
     "iopub.status.idle": "2022-10-31T20:21:57.237382Z",
     "shell.execute_reply": "2022-10-31T20:21:57.236406Z"
    },
    "papermill": {
     "duration": 0.028807,
     "end_time": "2022-10-31T20:21:57.239604",
     "exception": false,
     "start_time": "2022-10-31T20:21:57.210797",
     "status": "completed"
    },
    "tags": []
   },
   "outputs": [
    {
     "data": {
      "text/plain": [
       "'S'"
      ]
     },
     "execution_count": 22,
     "metadata": {},
     "output_type": "execute_result"
    }
   ],
   "source": [
    "df['Embarked'].mode()[0]"
   ]
  },
  {
   "cell_type": "code",
   "execution_count": 23,
   "id": "d0f7a198",
   "metadata": {
    "execution": {
     "iopub.execute_input": "2022-10-31T20:21:57.276726Z",
     "iopub.status.busy": "2022-10-31T20:21:57.276280Z",
     "iopub.status.idle": "2022-10-31T20:21:57.283066Z",
     "shell.execute_reply": "2022-10-31T20:21:57.281812Z"
    },
    "papermill": {
     "duration": 0.028018,
     "end_time": "2022-10-31T20:21:57.285324",
     "exception": false,
     "start_time": "2022-10-31T20:21:57.257306",
     "status": "completed"
    },
    "tags": []
   },
   "outputs": [],
   "source": [
    "#FILLING MISSING VALUE USING MODE OF CATEGORICAL COLUMN \n",
    "df['Embarked']=df['Embarked'].fillna(df['Embarked'].mode()[0])"
   ]
  },
  {
   "cell_type": "code",
   "execution_count": 24,
   "id": "2ec8e55f",
   "metadata": {
    "execution": {
     "iopub.execute_input": "2022-10-31T20:21:57.321880Z",
     "iopub.status.busy": "2022-10-31T20:21:57.321480Z",
     "iopub.status.idle": "2022-10-31T20:21:57.331566Z",
     "shell.execute_reply": "2022-10-31T20:21:57.330475Z"
    },
    "papermill": {
     "duration": 0.031042,
     "end_time": "2022-10-31T20:21:57.333789",
     "exception": false,
     "start_time": "2022-10-31T20:21:57.302747",
     "status": "completed"
    },
    "tags": []
   },
   "outputs": [
    {
     "data": {
      "text/plain": [
       "PassengerId      0\n",
       "Survived       418\n",
       "Pclass           0\n",
       "Name             0\n",
       "Sex              0\n",
       "Age              0\n",
       "SibSp            0\n",
       "Parch            0\n",
       "Ticket           0\n",
       "Fare             0\n",
       "Embarked         0\n",
       "dtype: int64"
      ]
     },
     "execution_count": 24,
     "metadata": {},
     "output_type": "execute_result"
    }
   ],
   "source": [
    "df.isnull().sum()"
   ]
  },
  {
   "cell_type": "markdown",
   "id": "bee922ef",
   "metadata": {
    "papermill": {
     "duration": 0.017412,
     "end_time": "2022-10-31T20:21:57.368761",
     "exception": false,
     "start_time": "2022-10-31T20:21:57.351349",
     "status": "completed"
    },
    "tags": []
   },
   "source": [
    "## Log of transformation for uniform data distribution"
   ]
  },
  {
   "cell_type": "code",
   "execution_count": 25,
   "id": "fd136631",
   "metadata": {
    "execution": {
     "iopub.execute_input": "2022-10-31T20:21:57.405983Z",
     "iopub.status.busy": "2022-10-31T20:21:57.404988Z",
     "iopub.status.idle": "2022-10-31T20:21:57.411398Z",
     "shell.execute_reply": "2022-10-31T20:21:57.410367Z"
    },
    "papermill": {
     "duration": 0.027235,
     "end_time": "2022-10-31T20:21:57.413617",
     "exception": false,
     "start_time": "2022-10-31T20:21:57.386382",
     "status": "completed"
    },
    "tags": []
   },
   "outputs": [],
   "source": [
    "df['Fare']=np.log(df['Fare']+1)"
   ]
  },
  {
   "cell_type": "code",
   "execution_count": 26,
   "id": "a861cca2",
   "metadata": {
    "execution": {
     "iopub.execute_input": "2022-10-31T20:21:57.450984Z",
     "iopub.status.busy": "2022-10-31T20:21:57.449949Z",
     "iopub.status.idle": "2022-10-31T20:21:57.786347Z",
     "shell.execute_reply": "2022-10-31T20:21:57.785109Z"
    },
    "papermill": {
     "duration": 0.357425,
     "end_time": "2022-10-31T20:21:57.788624",
     "exception": false,
     "start_time": "2022-10-31T20:21:57.431199",
     "status": "completed"
    },
    "tags": []
   },
   "outputs": [
    {
     "data": {
      "text/plain": [
       "<seaborn.axisgrid.FacetGrid at 0x7f0afcb73d50>"
      ]
     },
     "execution_count": 26,
     "metadata": {},
     "output_type": "execute_result"
    },
    {
     "data": {
      "image/png": "[encoded data removed]",
      "text/plain": [
       "<Figure size 360x360 with 1 Axes>"
      ]
     },
     "metadata": {
      "needs_background": "light"
     },
     "output_type": "display_data"
    }
   ],
   "source": [
    "sns.displot(df['Fare'])"
   ]
  },
  {
   "cell_type": "markdown",
   "id": "43fd3271",
   "metadata": {
    "papermill": {
     "duration": 0.018135,
     "end_time": "2022-10-31T20:21:57.824926",
     "exception": false,
     "start_time": "2022-10-31T20:21:57.806791",
     "status": "completed"
    },
    "tags": []
   },
   "source": [
    "## Correlation Matrix"
   ]
  },
  {
   "cell_type": "code",
   "execution_count": 27,
   "id": "2ae8d970",
   "metadata": {
    "execution": {
     "iopub.execute_input": "2022-10-31T20:21:57.862569Z",
     "iopub.status.busy": "2022-10-31T20:21:57.861802Z",
     "iopub.status.idle": "2022-10-31T20:21:58.441409Z",
     "shell.execute_reply": "2022-10-31T20:21:58.440296Z"
    },
    "papermill": {
     "duration": 0.600837,
     "end_time": "2022-10-31T20:21:58.443633",
     "exception": false,
     "start_time": "2022-10-31T20:21:57.842796",
     "status": "completed"
    },
    "tags": []
   },
   "outputs": [
    {
     "data": {
      "text/plain": [
       "<AxesSubplot:>"
      ]
     },
     "execution_count": 27,
     "metadata": {},
     "output_type": "execute_result"
    },
    {
     "data": {
      "image/png": "[encoded data removed]",
      "text/plain": [
       "<Figure size 1080x648 with 2 Axes>"
      ]
     },
     "metadata": {
      "needs_background": "light"
     },
     "output_type": "display_data"
    }
   ],
   "source": [
    "corr = df.corr()\n",
    "plt.figure(figsize=(15,9))\n",
    "sns.heatmap(corr,annot=True)"
   ]
  },
  {
   "cell_type": "markdown",
   "id": "2763fc88",
   "metadata": {
    "papermill": {
     "duration": 0.020699,
     "end_time": "2022-10-31T20:21:58.483322",
     "exception": false,
     "start_time": "2022-10-31T20:21:58.462623",
     "status": "completed"
    },
    "tags": []
   },
   "source": [
    "## DROPING UNNECESSSARY COLUMN"
   ]
  },
  {
   "cell_type": "code",
   "execution_count": 28,
   "id": "a376a108",
   "metadata": {
    "execution": {
     "iopub.execute_input": "2022-10-31T20:21:58.522562Z",
     "iopub.status.busy": "2022-10-31T20:21:58.522150Z",
     "iopub.status.idle": "2022-10-31T20:21:58.539230Z",
     "shell.execute_reply": "2022-10-31T20:21:58.538147Z"
    },
    "papermill": {
     "duration": 0.039311,
     "end_time": "2022-10-31T20:21:58.541401",
     "exception": false,
     "start_time": "2022-10-31T20:21:58.502090",
     "status": "completed"
    },
    "tags": []
   },
   "outputs": [
    {
     "data": {
      "text/html": [
       "<div>\n",
       "<style scoped>\n",
       "    .dataframe tbody tr th:only-of-type {\n",
       "        vertical-align: middle;\n",
       "    }\n",
       "\n",
       "    .dataframe tbody tr th {\n",
       "        vertical-align: top;\n",
       "    }\n",
       "\n",
       "    .dataframe thead th {\n",
       "        text-align: right;\n",
       "    }\n",
       "</style>\n",
       "<table border=\"1\" class=\"dataframe\">\n",
       "  <thead>\n",
       "    <tr style=\"text-align: right;\">\n",
       "      <th></th>\n",
       "      <th>PassengerId</th>\n",
       "      <th>Survived</th>\n",
       "      <th>Pclass</th>\n",
       "      <th>Name</th>\n",
       "      <th>Sex</th>\n",
       "      <th>Age</th>\n",
       "      <th>SibSp</th>\n",
       "      <th>Parch</th>\n",
       "      <th>Ticket</th>\n",
       "      <th>Fare</th>\n",
       "      <th>Embarked</th>\n",
       "    </tr>\n",
       "  </thead>\n",
       "  <tbody>\n",
       "    <tr>\n",
       "      <th>0</th>\n",
       "      <td>1</td>\n",
       "      <td>0.0</td>\n",
       "      <td>3</td>\n",
       "      <td>Braund, Mr. Owen Harris</td>\n",
       "      <td>male</td>\n",
       "      <td>22.0</td>\n",
       "      <td>1</td>\n",
       "      <td>0</td>\n",
       "      <td>A/5 21171</td>\n",
       "      <td>2.110213</td>\n",
       "      <td>S</td>\n",
       "    </tr>\n",
       "    <tr>\n",
       "      <th>1</th>\n",
       "      <td>2</td>\n",
       "      <td>1.0</td>\n",
       "      <td>1</td>\n",
       "      <td>Cumings, Mrs. John Bradley (Florence Briggs Th...</td>\n",
       "      <td>female</td>\n",
       "      <td>38.0</td>\n",
       "      <td>1</td>\n",
       "      <td>0</td>\n",
       "      <td>PC 17599</td>\n",
       "      <td>4.280593</td>\n",
       "      <td>C</td>\n",
       "    </tr>\n",
       "    <tr>\n",
       "      <th>2</th>\n",
       "      <td>3</td>\n",
       "      <td>1.0</td>\n",
       "      <td>3</td>\n",
       "      <td>Heikkinen, Miss. Laina</td>\n",
       "      <td>female</td>\n",
       "      <td>26.0</td>\n",
       "      <td>0</td>\n",
       "      <td>0</td>\n",
       "      <td>STON/O2. 3101282</td>\n",
       "      <td>2.188856</td>\n",
       "      <td>S</td>\n",
       "    </tr>\n",
       "    <tr>\n",
       "      <th>3</th>\n",
       "      <td>4</td>\n",
       "      <td>1.0</td>\n",
       "      <td>1</td>\n",
       "      <td>Futrelle, Mrs. Jacques Heath (Lily May Peel)</td>\n",
       "      <td>female</td>\n",
       "      <td>35.0</td>\n",
       "      <td>1</td>\n",
       "      <td>0</td>\n",
       "      <td>113803</td>\n",
       "      <td>3.990834</td>\n",
       "      <td>S</td>\n",
       "    </tr>\n",
       "    <tr>\n",
       "      <th>4</th>\n",
       "      <td>5</td>\n",
       "      <td>0.0</td>\n",
       "      <td>3</td>\n",
       "      <td>Allen, Mr. William Henry</td>\n",
       "      <td>male</td>\n",
       "      <td>35.0</td>\n",
       "      <td>0</td>\n",
       "      <td>0</td>\n",
       "      <td>373450</td>\n",
       "      <td>2.202765</td>\n",
       "      <td>S</td>\n",
       "    </tr>\n",
       "  </tbody>\n",
       "</table>\n",
       "</div>"
      ],
      "text/plain": [
       "   PassengerId  Survived  Pclass  \\\n",
       "0            1       0.0       3   \n",
       "1            2       1.0       1   \n",
       "2            3       1.0       3   \n",
       "3            4       1.0       1   \n",
       "4            5       0.0       3   \n",
       "\n",
       "                                                Name     Sex   Age  SibSp  \\\n",
       "0                            Braund, Mr. Owen Harris    male  22.0      1   \n",
       "1  Cumings, Mrs. John Bradley (Florence Briggs Th...  female  38.0      1   \n",
       "2                             Heikkinen, Miss. Laina  female  26.0      0   \n",
       "3       Futrelle, Mrs. Jacques Heath (Lily May Peel)  female  35.0      1   \n",
       "4                           Allen, Mr. William Henry    male  35.0      0   \n",
       "\n",
       "   Parch            Ticket      Fare Embarked  \n",
       "0      0         A/5 21171  2.110213        S  \n",
       "1      0          PC 17599  4.280593        C  \n",
       "2      0  STON/O2. 3101282  2.188856        S  \n",
       "3      0            113803  3.990834        S  \n",
       "4      0            373450  2.202765        S  "
      ]
     },
     "execution_count": 28,
     "metadata": {},
     "output_type": "execute_result"
    }
   ],
   "source": [
    "df.head()"
   ]
  },
  {
   "cell_type": "code",
   "execution_count": 29,
   "id": "efbed27a",
   "metadata": {
    "execution": {
     "iopub.execute_input": "2022-10-31T20:21:58.581280Z",
     "iopub.status.busy": "2022-10-31T20:21:58.580850Z",
     "iopub.status.idle": "2022-10-31T20:21:58.587046Z",
     "shell.execute_reply": "2022-10-31T20:21:58.585975Z"
    },
    "papermill": {
     "duration": 0.028763,
     "end_time": "2022-10-31T20:21:58.589234",
     "exception": false,
     "start_time": "2022-10-31T20:21:58.560471",
     "status": "completed"
    },
    "tags": []
   },
   "outputs": [],
   "source": [
    "df = df.drop(['Name','Ticket'],axis = 1)"
   ]
  },
  {
   "cell_type": "code",
   "execution_count": 30,
   "id": "ff40a7a2",
   "metadata": {
    "execution": {
     "iopub.execute_input": "2022-10-31T20:21:58.629406Z",
     "iopub.status.busy": "2022-10-31T20:21:58.628962Z",
     "iopub.status.idle": "2022-10-31T20:21:58.644936Z",
     "shell.execute_reply": "2022-10-31T20:21:58.643751Z"
    },
    "papermill": {
     "duration": 0.038726,
     "end_time": "2022-10-31T20:21:58.647156",
     "exception": false,
     "start_time": "2022-10-31T20:21:58.608430",
     "status": "completed"
    },
    "tags": []
   },
   "outputs": [
    {
     "data": {
      "text/html": [
       "<div>\n",
       "<style scoped>\n",
       "    .dataframe tbody tr th:only-of-type {\n",
       "        vertical-align: middle;\n",
       "    }\n",
       "\n",
       "    .dataframe tbody tr th {\n",
       "        vertical-align: top;\n",
       "    }\n",
       "\n",
       "    .dataframe thead th {\n",
       "        text-align: right;\n",
       "    }\n",
       "</style>\n",
       "<table border=\"1\" class=\"dataframe\">\n",
       "  <thead>\n",
       "    <tr style=\"text-align: right;\">\n",
       "      <th></th>\n",
       "      <th>PassengerId</th>\n",
       "      <th>Survived</th>\n",
       "      <th>Pclass</th>\n",
       "      <th>Sex</th>\n",
       "      <th>Age</th>\n",
       "      <th>SibSp</th>\n",
       "      <th>Parch</th>\n",
       "      <th>Fare</th>\n",
       "      <th>Embarked</th>\n",
       "    </tr>\n",
       "  </thead>\n",
       "  <tbody>\n",
       "    <tr>\n",
       "      <th>0</th>\n",
       "      <td>1</td>\n",
       "      <td>0.0</td>\n",
       "      <td>3</td>\n",
       "      <td>male</td>\n",
       "      <td>22.0</td>\n",
       "      <td>1</td>\n",
       "      <td>0</td>\n",
       "      <td>2.110213</td>\n",
       "      <td>S</td>\n",
       "    </tr>\n",
       "    <tr>\n",
       "      <th>1</th>\n",
       "      <td>2</td>\n",
       "      <td>1.0</td>\n",
       "      <td>1</td>\n",
       "      <td>female</td>\n",
       "      <td>38.0</td>\n",
       "      <td>1</td>\n",
       "      <td>0</td>\n",
       "      <td>4.280593</td>\n",
       "      <td>C</td>\n",
       "    </tr>\n",
       "    <tr>\n",
       "      <th>2</th>\n",
       "      <td>3</td>\n",
       "      <td>1.0</td>\n",
       "      <td>3</td>\n",
       "      <td>female</td>\n",
       "      <td>26.0</td>\n",
       "      <td>0</td>\n",
       "      <td>0</td>\n",
       "      <td>2.188856</td>\n",
       "      <td>S</td>\n",
       "    </tr>\n",
       "    <tr>\n",
       "      <th>3</th>\n",
       "      <td>4</td>\n",
       "      <td>1.0</td>\n",
       "      <td>1</td>\n",
       "      <td>female</td>\n",
       "      <td>35.0</td>\n",
       "      <td>1</td>\n",
       "      <td>0</td>\n",
       "      <td>3.990834</td>\n",
       "      <td>S</td>\n",
       "    </tr>\n",
       "    <tr>\n",
       "      <th>4</th>\n",
       "      <td>5</td>\n",
       "      <td>0.0</td>\n",
       "      <td>3</td>\n",
       "      <td>male</td>\n",
       "      <td>35.0</td>\n",
       "      <td>0</td>\n",
       "      <td>0</td>\n",
       "      <td>2.202765</td>\n",
       "      <td>S</td>\n",
       "    </tr>\n",
       "  </tbody>\n",
       "</table>\n",
       "</div>"
      ],
      "text/plain": [
       "   PassengerId  Survived  Pclass     Sex   Age  SibSp  Parch      Fare  \\\n",
       "0            1       0.0       3    male  22.0      1      0  2.110213   \n",
       "1            2       1.0       1  female  38.0      1      0  4.280593   \n",
       "2            3       1.0       3  female  26.0      0      0  2.188856   \n",
       "3            4       1.0       1  female  35.0      1      0  3.990834   \n",
       "4            5       0.0       3    male  35.0      0      0  2.202765   \n",
       "\n",
       "  Embarked  \n",
       "0        S  \n",
       "1        C  \n",
       "2        S  \n",
       "3        S  \n",
       "4        S  "
      ]
     },
     "execution_count": 30,
     "metadata": {},
     "output_type": "execute_result"
    }
   ],
   "source": [
    "df.head()"
   ]
  },
  {
   "cell_type": "markdown",
   "id": "59dfcdb6",
   "metadata": {
    "papermill": {
     "duration": 0.018765,
     "end_time": "2022-10-31T20:21:58.685085",
     "exception": false,
     "start_time": "2022-10-31T20:21:58.666320",
     "status": "completed"
    },
    "tags": []
   },
   "source": [
    "## LABEL ENCODING FOR CATEGORIAL COLUMN"
   ]
  },
  {
   "cell_type": "code",
   "execution_count": 31,
   "id": "961630a7",
   "metadata": {
    "execution": {
     "iopub.execute_input": "2022-10-31T20:21:58.726338Z",
     "iopub.status.busy": "2022-10-31T20:21:58.725933Z",
     "iopub.status.idle": "2022-10-31T20:21:58.759608Z",
     "shell.execute_reply": "2022-10-31T20:21:58.758467Z"
    },
    "papermill": {
     "duration": 0.058045,
     "end_time": "2022-10-31T20:21:58.762513",
     "exception": false,
     "start_time": "2022-10-31T20:21:58.704468",
     "status": "completed"
    },
    "tags": []
   },
   "outputs": [],
   "source": [
    "from sklearn.preprocessing import LabelEncoder"
   ]
  },
  {
   "cell_type": "code",
   "execution_count": 32,
   "id": "f311c686",
   "metadata": {
    "execution": {
     "iopub.execute_input": "2022-10-31T20:21:58.803955Z",
     "iopub.status.busy": "2022-10-31T20:21:58.803537Z",
     "iopub.status.idle": "2022-10-31T20:21:58.808207Z",
     "shell.execute_reply": "2022-10-31T20:21:58.807154Z"
    },
    "papermill": {
     "duration": 0.027905,
     "end_time": "2022-10-31T20:21:58.810571",
     "exception": false,
     "start_time": "2022-10-31T20:21:58.782666",
     "status": "completed"
    },
    "tags": []
   },
   "outputs": [],
   "source": [
    "le = LabelEncoder()\n"
   ]
  },
  {
   "cell_type": "code",
   "execution_count": 33,
   "id": "659c490b",
   "metadata": {
    "execution": {
     "iopub.execute_input": "2022-10-31T20:21:58.851634Z",
     "iopub.status.busy": "2022-10-31T20:21:58.851187Z",
     "iopub.status.idle": "2022-10-31T20:21:58.858983Z",
     "shell.execute_reply": "2022-10-31T20:21:58.857900Z"
    },
    "papermill": {
     "duration": 0.030905,
     "end_time": "2022-10-31T20:21:58.861297",
     "exception": false,
     "start_time": "2022-10-31T20:21:58.830392",
     "status": "completed"
    },
    "tags": []
   },
   "outputs": [],
   "source": [
    "cols = ['Sex','Embarked']\n",
    "for col in cols:\n",
    "    df[col]= le.fit_transform(df[col])"
   ]
  },
  {
   "cell_type": "code",
   "execution_count": 34,
   "id": "53602f3a",
   "metadata": {
    "execution": {
     "iopub.execute_input": "2022-10-31T20:21:58.901617Z",
     "iopub.status.busy": "2022-10-31T20:21:58.901199Z",
     "iopub.status.idle": "2022-10-31T20:21:58.916613Z",
     "shell.execute_reply": "2022-10-31T20:21:58.915495Z"
    },
    "papermill": {
     "duration": 0.03826,
     "end_time": "2022-10-31T20:21:58.918984",
     "exception": false,
     "start_time": "2022-10-31T20:21:58.880724",
     "status": "completed"
    },
    "tags": []
   },
   "outputs": [
    {
     "data": {
      "text/html": [
       "<div>\n",
       "<style scoped>\n",
       "    .dataframe tbody tr th:only-of-type {\n",
       "        vertical-align: middle;\n",
       "    }\n",
       "\n",
       "    .dataframe tbody tr th {\n",
       "        vertical-align: top;\n",
       "    }\n",
       "\n",
       "    .dataframe thead th {\n",
       "        text-align: right;\n",
       "    }\n",
       "</style>\n",
       "<table border=\"1\" class=\"dataframe\">\n",
       "  <thead>\n",
       "    <tr style=\"text-align: right;\">\n",
       "      <th></th>\n",
       "      <th>PassengerId</th>\n",
       "      <th>Survived</th>\n",
       "      <th>Pclass</th>\n",
       "      <th>Sex</th>\n",
       "      <th>Age</th>\n",
       "      <th>SibSp</th>\n",
       "      <th>Parch</th>\n",
       "      <th>Fare</th>\n",
       "      <th>Embarked</th>\n",
       "    </tr>\n",
       "  </thead>\n",
       "  <tbody>\n",
       "    <tr>\n",
       "      <th>0</th>\n",
       "      <td>1</td>\n",
       "      <td>0.0</td>\n",
       "      <td>3</td>\n",
       "      <td>1</td>\n",
       "      <td>22.0</td>\n",
       "      <td>1</td>\n",
       "      <td>0</td>\n",
       "      <td>2.110213</td>\n",
       "      <td>2</td>\n",
       "    </tr>\n",
       "    <tr>\n",
       "      <th>1</th>\n",
       "      <td>2</td>\n",
       "      <td>1.0</td>\n",
       "      <td>1</td>\n",
       "      <td>0</td>\n",
       "      <td>38.0</td>\n",
       "      <td>1</td>\n",
       "      <td>0</td>\n",
       "      <td>4.280593</td>\n",
       "      <td>0</td>\n",
       "    </tr>\n",
       "    <tr>\n",
       "      <th>2</th>\n",
       "      <td>3</td>\n",
       "      <td>1.0</td>\n",
       "      <td>3</td>\n",
       "      <td>0</td>\n",
       "      <td>26.0</td>\n",
       "      <td>0</td>\n",
       "      <td>0</td>\n",
       "      <td>2.188856</td>\n",
       "      <td>2</td>\n",
       "    </tr>\n",
       "    <tr>\n",
       "      <th>3</th>\n",
       "      <td>4</td>\n",
       "      <td>1.0</td>\n",
       "      <td>1</td>\n",
       "      <td>0</td>\n",
       "      <td>35.0</td>\n",
       "      <td>1</td>\n",
       "      <td>0</td>\n",
       "      <td>3.990834</td>\n",
       "      <td>2</td>\n",
       "    </tr>\n",
       "    <tr>\n",
       "      <th>4</th>\n",
       "      <td>5</td>\n",
       "      <td>0.0</td>\n",
       "      <td>3</td>\n",
       "      <td>1</td>\n",
       "      <td>35.0</td>\n",
       "      <td>0</td>\n",
       "      <td>0</td>\n",
       "      <td>2.202765</td>\n",
       "      <td>2</td>\n",
       "    </tr>\n",
       "  </tbody>\n",
       "</table>\n",
       "</div>"
      ],
      "text/plain": [
       "   PassengerId  Survived  Pclass  Sex   Age  SibSp  Parch      Fare  Embarked\n",
       "0            1       0.0       3    1  22.0      1      0  2.110213         2\n",
       "1            2       1.0       1    0  38.0      1      0  4.280593         0\n",
       "2            3       1.0       3    0  26.0      0      0  2.188856         2\n",
       "3            4       1.0       1    0  35.0      1      0  3.990834         2\n",
       "4            5       0.0       3    1  35.0      0      0  2.202765         2"
      ]
     },
     "execution_count": 34,
     "metadata": {},
     "output_type": "execute_result"
    }
   ],
   "source": [
    "df.head()"
   ]
  },
  {
   "cell_type": "markdown",
   "id": "2bab46fd",
   "metadata": {
    "papermill": {
     "duration": 0.019437,
     "end_time": "2022-10-31T20:21:58.958119",
     "exception": false,
     "start_time": "2022-10-31T20:21:58.938682",
     "status": "completed"
    },
    "tags": []
   },
   "source": [
    "## SPLITTING DATA INTO TRIANING SET ANS TEST SET"
   ]
  },
  {
   "cell_type": "code",
   "execution_count": 35,
   "id": "bada159d",
   "metadata": {
    "execution": {
     "iopub.execute_input": "2022-10-31T20:21:58.999256Z",
     "iopub.status.busy": "2022-10-31T20:21:58.998794Z",
     "iopub.status.idle": "2022-10-31T20:21:59.056191Z",
     "shell.execute_reply": "2022-10-31T20:21:59.055110Z"
    },
    "papermill": {
     "duration": 0.081387,
     "end_time": "2022-10-31T20:21:59.059144",
     "exception": false,
     "start_time": "2022-10-31T20:21:58.977757",
     "status": "completed"
    },
    "tags": []
   },
   "outputs": [],
   "source": [
    "from sklearn.model_selection import train_test_split\n"
   ]
  },
  {
   "cell_type": "code",
   "execution_count": 36,
   "id": "553e8f19",
   "metadata": {
    "execution": {
     "iopub.execute_input": "2022-10-31T20:21:59.101307Z",
     "iopub.status.busy": "2022-10-31T20:21:59.100420Z",
     "iopub.status.idle": "2022-10-31T20:21:59.106608Z",
     "shell.execute_reply": "2022-10-31T20:21:59.105477Z"
    },
    "papermill": {
     "duration": 0.030037,
     "end_time": "2022-10-31T20:21:59.109012",
     "exception": false,
     "start_time": "2022-10-31T20:21:59.078975",
     "status": "completed"
    },
    "tags": []
   },
   "outputs": [],
   "source": [
    "train = df.iloc[:train_len,:]\n",
    "test = df.iloc[train_len:,:]"
   ]
  },
  {
   "cell_type": "code",
   "execution_count": 37,
   "id": "fc220897",
   "metadata": {
    "execution": {
     "iopub.execute_input": "2022-10-31T20:21:59.150431Z",
     "iopub.status.busy": "2022-10-31T20:21:59.149542Z",
     "iopub.status.idle": "2022-10-31T20:21:59.164652Z",
     "shell.execute_reply": "2022-10-31T20:21:59.163544Z"
    },
    "papermill": {
     "duration": 0.038259,
     "end_time": "2022-10-31T20:21:59.167069",
     "exception": false,
     "start_time": "2022-10-31T20:21:59.128810",
     "status": "completed"
    },
    "tags": []
   },
   "outputs": [
    {
     "data": {
      "text/html": [
       "<div>\n",
       "<style scoped>\n",
       "    .dataframe tbody tr th:only-of-type {\n",
       "        vertical-align: middle;\n",
       "    }\n",
       "\n",
       "    .dataframe tbody tr th {\n",
       "        vertical-align: top;\n",
       "    }\n",
       "\n",
       "    .dataframe thead th {\n",
       "        text-align: right;\n",
       "    }\n",
       "</style>\n",
       "<table border=\"1\" class=\"dataframe\">\n",
       "  <thead>\n",
       "    <tr style=\"text-align: right;\">\n",
       "      <th></th>\n",
       "      <th>PassengerId</th>\n",
       "      <th>Survived</th>\n",
       "      <th>Pclass</th>\n",
       "      <th>Sex</th>\n",
       "      <th>Age</th>\n",
       "      <th>SibSp</th>\n",
       "      <th>Parch</th>\n",
       "      <th>Fare</th>\n",
       "      <th>Embarked</th>\n",
       "    </tr>\n",
       "  </thead>\n",
       "  <tbody>\n",
       "    <tr>\n",
       "      <th>886</th>\n",
       "      <td>887</td>\n",
       "      <td>0.0</td>\n",
       "      <td>2</td>\n",
       "      <td>1</td>\n",
       "      <td>27.000000</td>\n",
       "      <td>0</td>\n",
       "      <td>0</td>\n",
       "      <td>2.639057</td>\n",
       "      <td>2</td>\n",
       "    </tr>\n",
       "    <tr>\n",
       "      <th>887</th>\n",
       "      <td>888</td>\n",
       "      <td>1.0</td>\n",
       "      <td>1</td>\n",
       "      <td>0</td>\n",
       "      <td>19.000000</td>\n",
       "      <td>0</td>\n",
       "      <td>0</td>\n",
       "      <td>3.433987</td>\n",
       "      <td>2</td>\n",
       "    </tr>\n",
       "    <tr>\n",
       "      <th>888</th>\n",
       "      <td>889</td>\n",
       "      <td>0.0</td>\n",
       "      <td>3</td>\n",
       "      <td>0</td>\n",
       "      <td>29.881138</td>\n",
       "      <td>1</td>\n",
       "      <td>2</td>\n",
       "      <td>3.196630</td>\n",
       "      <td>2</td>\n",
       "    </tr>\n",
       "    <tr>\n",
       "      <th>889</th>\n",
       "      <td>890</td>\n",
       "      <td>1.0</td>\n",
       "      <td>1</td>\n",
       "      <td>1</td>\n",
       "      <td>26.000000</td>\n",
       "      <td>0</td>\n",
       "      <td>0</td>\n",
       "      <td>3.433987</td>\n",
       "      <td>0</td>\n",
       "    </tr>\n",
       "    <tr>\n",
       "      <th>890</th>\n",
       "      <td>891</td>\n",
       "      <td>0.0</td>\n",
       "      <td>3</td>\n",
       "      <td>1</td>\n",
       "      <td>32.000000</td>\n",
       "      <td>0</td>\n",
       "      <td>0</td>\n",
       "      <td>2.169054</td>\n",
       "      <td>1</td>\n",
       "    </tr>\n",
       "  </tbody>\n",
       "</table>\n",
       "</div>"
      ],
      "text/plain": [
       "     PassengerId  Survived  Pclass  Sex        Age  SibSp  Parch      Fare  \\\n",
       "886          887       0.0       2    1  27.000000      0      0  2.639057   \n",
       "887          888       1.0       1    0  19.000000      0      0  3.433987   \n",
       "888          889       0.0       3    0  29.881138      1      2  3.196630   \n",
       "889          890       1.0       1    1  26.000000      0      0  3.433987   \n",
       "890          891       0.0       3    1  32.000000      0      0  2.169054   \n",
       "\n",
       "     Embarked  \n",
       "886         2  \n",
       "887         2  \n",
       "888         2  \n",
       "889         0  \n",
       "890         1  "
      ]
     },
     "execution_count": 37,
     "metadata": {},
     "output_type": "execute_result"
    }
   ],
   "source": [
    "train.tail()"
   ]
  },
  {
   "cell_type": "code",
   "execution_count": 38,
   "id": "71bd8e02",
   "metadata": {
    "execution": {
     "iopub.execute_input": "2022-10-31T20:21:59.209489Z",
     "iopub.status.busy": "2022-10-31T20:21:59.209041Z",
     "iopub.status.idle": "2022-10-31T20:21:59.216109Z",
     "shell.execute_reply": "2022-10-31T20:21:59.215247Z"
    },
    "papermill": {
     "duration": 0.030929,
     "end_time": "2022-10-31T20:21:59.218469",
     "exception": false,
     "start_time": "2022-10-31T20:21:59.187540",
     "status": "completed"
    },
    "tags": []
   },
   "outputs": [],
   "source": [
    "#input split\n",
    "x = train.drop(['Survived','PassengerId'],axis = 1)\n",
    "y = train['Survived']"
   ]
  },
  {
   "cell_type": "code",
   "execution_count": 39,
   "id": "2818155c",
   "metadata": {
    "execution": {
     "iopub.execute_input": "2022-10-31T20:21:59.260070Z",
     "iopub.status.busy": "2022-10-31T20:21:59.259690Z",
     "iopub.status.idle": "2022-10-31T20:21:59.273057Z",
     "shell.execute_reply": "2022-10-31T20:21:59.271883Z"
    },
    "papermill": {
     "duration": 0.037201,
     "end_time": "2022-10-31T20:21:59.275350",
     "exception": false,
     "start_time": "2022-10-31T20:21:59.238149",
     "status": "completed"
    },
    "tags": []
   },
   "outputs": [
    {
     "data": {
      "text/html": [
       "<div>\n",
       "<style scoped>\n",
       "    .dataframe tbody tr th:only-of-type {\n",
       "        vertical-align: middle;\n",
       "    }\n",
       "\n",
       "    .dataframe tbody tr th {\n",
       "        vertical-align: top;\n",
       "    }\n",
       "\n",
       "    .dataframe thead th {\n",
       "        text-align: right;\n",
       "    }\n",
       "</style>\n",
       "<table border=\"1\" class=\"dataframe\">\n",
       "  <thead>\n",
       "    <tr style=\"text-align: right;\">\n",
       "      <th></th>\n",
       "      <th>Pclass</th>\n",
       "      <th>Sex</th>\n",
       "      <th>Age</th>\n",
       "      <th>SibSp</th>\n",
       "      <th>Parch</th>\n",
       "      <th>Fare</th>\n",
       "      <th>Embarked</th>\n",
       "    </tr>\n",
       "  </thead>\n",
       "  <tbody>\n",
       "    <tr>\n",
       "      <th>0</th>\n",
       "      <td>3</td>\n",
       "      <td>1</td>\n",
       "      <td>22.0</td>\n",
       "      <td>1</td>\n",
       "      <td>0</td>\n",
       "      <td>2.110213</td>\n",
       "      <td>2</td>\n",
       "    </tr>\n",
       "    <tr>\n",
       "      <th>1</th>\n",
       "      <td>1</td>\n",
       "      <td>0</td>\n",
       "      <td>38.0</td>\n",
       "      <td>1</td>\n",
       "      <td>0</td>\n",
       "      <td>4.280593</td>\n",
       "      <td>0</td>\n",
       "    </tr>\n",
       "    <tr>\n",
       "      <th>2</th>\n",
       "      <td>3</td>\n",
       "      <td>0</td>\n",
       "      <td>26.0</td>\n",
       "      <td>0</td>\n",
       "      <td>0</td>\n",
       "      <td>2.188856</td>\n",
       "      <td>2</td>\n",
       "    </tr>\n",
       "    <tr>\n",
       "      <th>3</th>\n",
       "      <td>1</td>\n",
       "      <td>0</td>\n",
       "      <td>35.0</td>\n",
       "      <td>1</td>\n",
       "      <td>0</td>\n",
       "      <td>3.990834</td>\n",
       "      <td>2</td>\n",
       "    </tr>\n",
       "    <tr>\n",
       "      <th>4</th>\n",
       "      <td>3</td>\n",
       "      <td>1</td>\n",
       "      <td>35.0</td>\n",
       "      <td>0</td>\n",
       "      <td>0</td>\n",
       "      <td>2.202765</td>\n",
       "      <td>2</td>\n",
       "    </tr>\n",
       "  </tbody>\n",
       "</table>\n",
       "</div>"
      ],
      "text/plain": [
       "   Pclass  Sex   Age  SibSp  Parch      Fare  Embarked\n",
       "0       3    1  22.0      1      0  2.110213         2\n",
       "1       1    0  38.0      1      0  4.280593         0\n",
       "2       3    0  26.0      0      0  2.188856         2\n",
       "3       1    0  35.0      1      0  3.990834         2\n",
       "4       3    1  35.0      0      0  2.202765         2"
      ]
     },
     "execution_count": 39,
     "metadata": {},
     "output_type": "execute_result"
    }
   ],
   "source": [
    "x.head()"
   ]
  },
  {
   "cell_type": "markdown",
   "id": "20544299",
   "metadata": {
    "papermill": {
     "duration": 0.01967,
     "end_time": "2022-10-31T20:21:59.315363",
     "exception": false,
     "start_time": "2022-10-31T20:21:59.295693",
     "status": "completed"
    },
    "tags": []
   },
   "source": [
    "## Model Selection"
   ]
  },
  {
   "cell_type": "code",
   "execution_count": 40,
   "id": "e975ee58",
   "metadata": {
    "execution": {
     "iopub.execute_input": "2022-10-31T20:21:59.356758Z",
     "iopub.status.busy": "2022-10-31T20:21:59.356342Z",
     "iopub.status.idle": "2022-10-31T20:21:59.362404Z",
     "shell.execute_reply": "2022-10-31T20:21:59.361208Z"
    },
    "papermill": {
     "duration": 0.029755,
     "end_time": "2022-10-31T20:21:59.364890",
     "exception": false,
     "start_time": "2022-10-31T20:21:59.335135",
     "status": "completed"
    },
    "tags": []
   },
   "outputs": [],
   "source": [
    "def classify(model,x,y):\n",
    "    x_train,x_test,y_train,y_test = train_test_split(x,y,test_size=0.25,random_state=25)\n",
    "    model.fit(x_train,y_train)\n",
    "    print('Accurecy of the model is:',model.score(x_test,y_test))\n",
    "    "
   ]
  },
  {
   "cell_type": "code",
   "execution_count": 41,
   "id": "aeb1002b",
   "metadata": {
    "execution": {
     "iopub.execute_input": "2022-10-31T20:21:59.406813Z",
     "iopub.status.busy": "2022-10-31T20:21:59.405680Z",
     "iopub.status.idle": "2022-10-31T20:21:59.506482Z",
     "shell.execute_reply": "2022-10-31T20:21:59.505235Z"
    },
    "papermill": {
     "duration": 0.12455,
     "end_time": "2022-10-31T20:21:59.509157",
     "exception": false,
     "start_time": "2022-10-31T20:21:59.384607",
     "status": "completed"
    },
    "tags": []
   },
   "outputs": [
    {
     "name": "stdout",
     "output_type": "stream",
     "text": [
      "Accurecy of the model is: 0.7892376681614349\n"
     ]
    }
   ],
   "source": [
    "from sklearn.linear_model import LogisticRegression\n",
    "model = LogisticRegression()\n",
    "classify(model,x,y)"
   ]
  },
  {
   "cell_type": "code",
   "execution_count": 42,
   "id": "f9928111",
   "metadata": {
    "execution": {
     "iopub.execute_input": "2022-10-31T20:21:59.550850Z",
     "iopub.status.busy": "2022-10-31T20:21:59.550181Z",
     "iopub.status.idle": "2022-10-31T20:21:59.588932Z",
     "shell.execute_reply": "2022-10-31T20:21:59.587730Z"
    },
    "papermill": {
     "duration": 0.062383,
     "end_time": "2022-10-31T20:21:59.591395",
     "exception": false,
     "start_time": "2022-10-31T20:21:59.529012",
     "status": "completed"
    },
    "tags": []
   },
   "outputs": [
    {
     "name": "stdout",
     "output_type": "stream",
     "text": [
      "Accurecy of the model is: 0.6905829596412556\n"
     ]
    }
   ],
   "source": [
    "from sklearn.svm import SVC\n",
    "model = SVC()\n",
    "classify(model,x,y)"
   ]
  },
  {
   "cell_type": "code",
   "execution_count": 43,
   "id": "a5400e69",
   "metadata": {
    "execution": {
     "iopub.execute_input": "2022-10-31T20:21:59.633629Z",
     "iopub.status.busy": "2022-10-31T20:21:59.632648Z",
     "iopub.status.idle": "2022-10-31T20:21:59.715292Z",
     "shell.execute_reply": "2022-10-31T20:21:59.714056Z"
    },
    "papermill": {
     "duration": 0.105966,
     "end_time": "2022-10-31T20:21:59.717430",
     "exception": false,
     "start_time": "2022-10-31T20:21:59.611464",
     "status": "completed"
    },
    "tags": []
   },
   "outputs": [
    {
     "name": "stdout",
     "output_type": "stream",
     "text": [
      "Accurecy of the model is: 0.757847533632287\n"
     ]
    }
   ],
   "source": [
    "from sklearn import tree\n",
    "model = tree.DecisionTreeClassifier()\n",
    "classify(model,x,y)"
   ]
  },
  {
   "cell_type": "code",
   "execution_count": 44,
   "id": "45788330",
   "metadata": {
    "execution": {
     "iopub.execute_input": "2022-10-31T20:21:59.759905Z",
     "iopub.status.busy": "2022-10-31T20:21:59.759183Z",
     "iopub.status.idle": "2022-10-31T20:22:00.015944Z",
     "shell.execute_reply": "2022-10-31T20:22:00.014642Z"
    },
    "papermill": {
     "duration": 0.282105,
     "end_time": "2022-10-31T20:22:00.019636",
     "exception": false,
     "start_time": "2022-10-31T20:21:59.737531",
     "status": "completed"
    },
    "tags": []
   },
   "outputs": [
    {
     "name": "stdout",
     "output_type": "stream",
     "text": [
      "Accurecy of the model is: 0.7982062780269058\n"
     ]
    }
   ],
   "source": [
    "from sklearn.ensemble import RandomForestClassifier\n",
    "model = RandomForestClassifier()\n",
    "classify(model,x,y)"
   ]
  },
  {
   "cell_type": "code",
   "execution_count": 45,
   "id": "bae1cdfb",
   "metadata": {
    "execution": {
     "iopub.execute_input": "2022-10-31T20:22:00.062373Z",
     "iopub.status.busy": "2022-10-31T20:22:00.061753Z",
     "iopub.status.idle": "2022-10-31T20:22:01.210169Z",
     "shell.execute_reply": "2022-10-31T20:22:01.209172Z"
    },
    "papermill": {
     "duration": 1.172184,
     "end_time": "2022-10-31T20:22:01.212563",
     "exception": false,
     "start_time": "2022-10-31T20:22:00.040379",
     "status": "completed"
    },
    "tags": []
   },
   "outputs": [
    {
     "data": {
      "text/html": [
       "<style type='text/css'>\n",
       ".datatable table.frame { margin-bottom: 0; }\n",
       ".datatable table.frame thead { border-bottom: none; }\n",
       ".datatable table.frame tr.coltypes td {  color: #FFFFFF;  line-height: 6px;  padding: 0 0.5em;}\n",
       ".datatable .bool    { background: #DDDD99; }\n",
       ".datatable .object  { background: #565656; }\n",
       ".datatable .int     { background: #5D9E5D; }\n",
       ".datatable .float   { background: #4040CC; }\n",
       ".datatable .str     { background: #CC4040; }\n",
       ".datatable .time    { background: #40CC40; }\n",
       ".datatable .row_index {  background: var(--jp-border-color3);  border-right: 1px solid var(--jp-border-color0);  color: var(--jp-ui-font-color3);  font-size: 9px;}\n",
       ".datatable .frame tbody td { text-align: left; }\n",
       ".datatable .frame tr.coltypes .row_index {  background: var(--jp-border-color0);}\n",
       ".datatable th:nth-child(2) { padding-left: 12px; }\n",
       ".datatable .hellipsis {  color: var(--jp-cell-editor-border-color);}\n",
       ".datatable .vellipsis {  background: var(--jp-layout-color0);  color: var(--jp-cell-editor-border-color);}\n",
       ".datatable .na {  color: var(--jp-cell-editor-border-color);  font-size: 80%;}\n",
       ".datatable .sp {  opacity: 0.25;}\n",
       ".datatable .footer { font-size: 9px; }\n",
       ".datatable .frame_dimensions {  background: var(--jp-border-color3);  border-top: 1px solid var(--jp-border-color0);  color: var(--jp-ui-font-color3);  display: inline-block;  opacity: 0.6;  padding: 1px 10px 1px 5px;}\n",
       "</style>\n"
      ],
      "text/plain": [
       "<IPython.core.display.HTML object>"
      ]
     },
     "metadata": {},
     "output_type": "display_data"
    },
    {
     "name": "stdout",
     "output_type": "stream",
     "text": [
      "Accurecy of the model is: 0.8071748878923767\n"
     ]
    }
   ],
   "source": [
    "from lightgbm import LGBMClassifier\n",
    "model = LGBMClassifier()\n",
    "classify(model,x,y)"
   ]
  },
  {
   "cell_type": "markdown",
   "id": "4765e2f1",
   "metadata": {
    "papermill": {
     "duration": 0.020102,
     "end_time": "2022-10-31T20:22:01.253387",
     "exception": false,
     "start_time": "2022-10-31T20:22:01.233285",
     "status": "completed"
    },
    "tags": []
   },
   "source": [
    "## Complete model using full data"
   ]
  },
  {
   "cell_type": "code",
   "execution_count": 46,
   "id": "dad22dcb",
   "metadata": {
    "execution": {
     "iopub.execute_input": "2022-10-31T20:22:01.296407Z",
     "iopub.status.busy": "2022-10-31T20:22:01.295092Z",
     "iopub.status.idle": "2022-10-31T20:22:01.389302Z",
     "shell.execute_reply": "2022-10-31T20:22:01.387900Z"
    },
    "papermill": {
     "duration": 0.118297,
     "end_time": "2022-10-31T20:22:01.391951",
     "exception": false,
     "start_time": "2022-10-31T20:22:01.273654",
     "status": "completed"
    },
    "tags": []
   },
   "outputs": [
    {
     "data": {
      "text/plain": [
       "LGBMClassifier()"
      ]
     },
     "execution_count": 46,
     "metadata": {},
     "output_type": "execute_result"
    }
   ],
   "source": [
    "modela  = LGBMClassifier()\n",
    "modela.fit(x,y)\n"
   ]
  },
  {
   "cell_type": "code",
   "execution_count": 47,
   "id": "babd58a4",
   "metadata": {
    "execution": {
     "iopub.execute_input": "2022-10-31T20:22:01.436088Z",
     "iopub.status.busy": "2022-10-31T20:22:01.434762Z",
     "iopub.status.idle": "2022-10-31T20:22:01.441939Z",
     "shell.execute_reply": "2022-10-31T20:22:01.441086Z"
    },
    "papermill": {
     "duration": 0.031623,
     "end_time": "2022-10-31T20:22:01.444330",
     "exception": false,
     "start_time": "2022-10-31T20:22:01.412707",
     "status": "completed"
    },
    "tags": []
   },
   "outputs": [],
   "source": [
    "x_test = test.drop(['Survived','PassengerId'],axis = 1)"
   ]
  },
  {
   "cell_type": "code",
   "execution_count": 48,
   "id": "b5ff7152",
   "metadata": {
    "execution": {
     "iopub.execute_input": "2022-10-31T20:22:01.488052Z",
     "iopub.status.busy": "2022-10-31T20:22:01.486586Z",
     "iopub.status.idle": "2022-10-31T20:22:01.498410Z",
     "shell.execute_reply": "2022-10-31T20:22:01.497427Z"
    },
    "papermill": {
     "duration": 0.036314,
     "end_time": "2022-10-31T20:22:01.501090",
     "exception": false,
     "start_time": "2022-10-31T20:22:01.464776",
     "status": "completed"
    },
    "tags": []
   },
   "outputs": [],
   "source": [
    "pred = modela.predict(x_test)"
   ]
  },
  {
   "cell_type": "markdown",
   "id": "1712cd30",
   "metadata": {
    "papermill": {
     "duration": 0.020374,
     "end_time": "2022-10-31T20:22:01.542792",
     "exception": false,
     "start_time": "2022-10-31T20:22:01.522418",
     "status": "completed"
    },
    "tags": []
   },
   "source": [
    "## Test submission"
   ]
  },
  {
   "cell_type": "code",
   "execution_count": 49,
   "id": "b2d880ed",
   "metadata": {
    "execution": {
     "iopub.execute_input": "2022-10-31T20:22:01.586029Z",
     "iopub.status.busy": "2022-10-31T20:22:01.585648Z",
     "iopub.status.idle": "2022-10-31T20:22:01.602477Z",
     "shell.execute_reply": "2022-10-31T20:22:01.601520Z"
    },
    "papermill": {
     "duration": 0.040905,
     "end_time": "2022-10-31T20:22:01.604830",
     "exception": false,
     "start_time": "2022-10-31T20:22:01.563925",
     "status": "completed"
    },
    "tags": []
   },
   "outputs": [
    {
     "data": {
      "text/html": [
       "<div>\n",
       "<style scoped>\n",
       "    .dataframe tbody tr th:only-of-type {\n",
       "        vertical-align: middle;\n",
       "    }\n",
       "\n",
       "    .dataframe tbody tr th {\n",
       "        vertical-align: top;\n",
       "    }\n",
       "\n",
       "    .dataframe thead th {\n",
       "        text-align: right;\n",
       "    }\n",
       "</style>\n",
       "<table border=\"1\" class=\"dataframe\">\n",
       "  <thead>\n",
       "    <tr style=\"text-align: right;\">\n",
       "      <th></th>\n",
       "      <th>PassengerId</th>\n",
       "      <th>Survived</th>\n",
       "    </tr>\n",
       "  </thead>\n",
       "  <tbody>\n",
       "    <tr>\n",
       "      <th>0</th>\n",
       "      <td>892</td>\n",
       "      <td>0</td>\n",
       "    </tr>\n",
       "    <tr>\n",
       "      <th>1</th>\n",
       "      <td>893</td>\n",
       "      <td>1</td>\n",
       "    </tr>\n",
       "    <tr>\n",
       "      <th>2</th>\n",
       "      <td>894</td>\n",
       "      <td>0</td>\n",
       "    </tr>\n",
       "    <tr>\n",
       "      <th>3</th>\n",
       "      <td>895</td>\n",
       "      <td>0</td>\n",
       "    </tr>\n",
       "    <tr>\n",
       "      <th>4</th>\n",
       "      <td>896</td>\n",
       "      <td>1</td>\n",
       "    </tr>\n",
       "  </tbody>\n",
       "</table>\n",
       "</div>"
      ],
      "text/plain": [
       "   PassengerId  Survived\n",
       "0          892         0\n",
       "1          893         1\n",
       "2          894         0\n",
       "3          895         0\n",
       "4          896         1"
      ]
     },
     "execution_count": 49,
     "metadata": {},
     "output_type": "execute_result"
    }
   ],
   "source": [
    "sub  = pd.read_csv('../input/titanic/gender_submission.csv')\n",
    "sub.head()"
   ]
  },
  {
   "cell_type": "code",
   "execution_count": 50,
   "id": "f77dcd34",
   "metadata": {
    "execution": {
     "iopub.execute_input": "2022-10-31T20:22:01.649154Z",
     "iopub.status.busy": "2022-10-31T20:22:01.648300Z",
     "iopub.status.idle": "2022-10-31T20:22:01.655029Z",
     "shell.execute_reply": "2022-10-31T20:22:01.654149Z"
    },
    "papermill": {
     "duration": 0.03127,
     "end_time": "2022-10-31T20:22:01.657244",
     "exception": false,
     "start_time": "2022-10-31T20:22:01.625974",
     "status": "completed"
    },
    "tags": []
   },
   "outputs": [],
   "source": [
    "sub['Survived']=pred\n",
    "sub['Survived']=sub['Survived'].astype('int')"
   ]
  },
  {
   "cell_type": "code",
   "execution_count": 51,
   "id": "76f4d3a5",
   "metadata": {
    "execution": {
     "iopub.execute_input": "2022-10-31T20:22:01.700808Z",
     "iopub.status.busy": "2022-10-31T20:22:01.700002Z",
     "iopub.status.idle": "2022-10-31T20:22:01.709653Z",
     "shell.execute_reply": "2022-10-31T20:22:01.708474Z"
    },
    "papermill": {
     "duration": 0.03379,
     "end_time": "2022-10-31T20:22:01.712026",
     "exception": false,
     "start_time": "2022-10-31T20:22:01.678236",
     "status": "completed"
    },
    "tags": []
   },
   "outputs": [
    {
     "data": {
      "text/html": [
       "<div>\n",
       "<style scoped>\n",
       "    .dataframe tbody tr th:only-of-type {\n",
       "        vertical-align: middle;\n",
       "    }\n",
       "\n",
       "    .dataframe tbody tr th {\n",
       "        vertical-align: top;\n",
       "    }\n",
       "\n",
       "    .dataframe thead th {\n",
       "        text-align: right;\n",
       "    }\n",
       "</style>\n",
       "<table border=\"1\" class=\"dataframe\">\n",
       "  <thead>\n",
       "    <tr style=\"text-align: right;\">\n",
       "      <th></th>\n",
       "      <th>PassengerId</th>\n",
       "      <th>Survived</th>\n",
       "    </tr>\n",
       "  </thead>\n",
       "  <tbody>\n",
       "    <tr>\n",
       "      <th>413</th>\n",
       "      <td>1305</td>\n",
       "      <td>0</td>\n",
       "    </tr>\n",
       "    <tr>\n",
       "      <th>414</th>\n",
       "      <td>1306</td>\n",
       "      <td>1</td>\n",
       "    </tr>\n",
       "    <tr>\n",
       "      <th>415</th>\n",
       "      <td>1307</td>\n",
       "      <td>0</td>\n",
       "    </tr>\n",
       "    <tr>\n",
       "      <th>416</th>\n",
       "      <td>1308</td>\n",
       "      <td>0</td>\n",
       "    </tr>\n",
       "    <tr>\n",
       "      <th>417</th>\n",
       "      <td>1309</td>\n",
       "      <td>1</td>\n",
       "    </tr>\n",
       "  </tbody>\n",
       "</table>\n",
       "</div>"
      ],
      "text/plain": [
       "     PassengerId  Survived\n",
       "413         1305         0\n",
       "414         1306         1\n",
       "415         1307         0\n",
       "416         1308         0\n",
       "417         1309         1"
      ]
     },
     "execution_count": 51,
     "metadata": {},
     "output_type": "execute_result"
    }
   ],
   "source": [
    "sub.tail()"
   ]
  },
  {
   "cell_type": "code",
   "execution_count": 52,
   "id": "d9fe6261",
   "metadata": {
    "execution": {
     "iopub.execute_input": "2022-10-31T20:22:01.755920Z",
     "iopub.status.busy": "2022-10-31T20:22:01.755518Z",
     "iopub.status.idle": "2022-10-31T20:22:01.763129Z",
     "shell.execute_reply": "2022-10-31T20:22:01.762243Z"
    },
    "papermill": {
     "duration": 0.032154,
     "end_time": "2022-10-31T20:22:01.765340",
     "exception": false,
     "start_time": "2022-10-31T20:22:01.733186",
     "status": "completed"
    },
    "tags": []
   },
   "outputs": [],
   "source": [
    "sub.to_csv('SubmissionCsv',index = False)"
   ]
  },
  {
   "cell_type": "code",
   "execution_count": 53,
   "id": "641e6f25",
   "metadata": {
    "execution": {
     "iopub.execute_input": "2022-10-31T20:22:01.809392Z",
     "iopub.status.busy": "2022-10-31T20:22:01.808525Z",
     "iopub.status.idle": "2022-10-31T20:22:01.821693Z",
     "shell.execute_reply": "2022-10-31T20:22:01.820316Z"
    },
    "papermill": {
     "duration": 0.037941,
     "end_time": "2022-10-31T20:22:01.824336",
     "exception": false,
     "start_time": "2022-10-31T20:22:01.786395",
     "status": "completed"
    },
    "tags": []
   },
   "outputs": [
    {
     "name": "stdout",
     "output_type": "stream",
     "text": [
      "<class 'pandas.core.frame.DataFrame'>\n",
      "RangeIndex: 418 entries, 0 to 417\n",
      "Data columns (total 2 columns):\n",
      " #   Column       Non-Null Count  Dtype\n",
      "---  ------       --------------  -----\n",
      " 0   PassengerId  418 non-null    int64\n",
      " 1   Survived     418 non-null    int64\n",
      "dtypes: int64(2)\n",
      "memory usage: 6.7 KB\n"
     ]
    }
   ],
   "source": [
    "sub.info()"
   ]
  },
  {
   "cell_type": "code",
   "execution_count": null,
   "id": "3da63854",
   "metadata": {
    "papermill": {
     "duration": 0.020538,
     "end_time": "2022-10-31T20:22:01.866439",
     "exception": false,
     "start_time": "2022-10-31T20:22:01.845901",
     "status": "completed"
    },
    "tags": []
   },
   "outputs": [],
   "source": []
  }
 ],
 "metadata": {
  "kernelspec": {
   "display_name": "Python 3",
   "language": "python",
   "name": "python3"
  },
  "language_info": {
   "codemirror_mode": {
    "name": "ipython",
    "version": 3
   },
   "file_extension": ".py",
   "mimetype": "text/x-python",
   "name": "python",
   "nbconvert_exporter": "python",
   "pygments_lexer": "ipython3",
   "version": "3.7.12"
  },
  "papermill": {
   "default_parameters": {},
   "duration": 18.050772,
   "end_time": "2022-10-31T20:22:02.709194",
   "environment_variables": {},
   "exception": null,
   "input_path": "__notebook__.ipynb",
   "output_path": "__notebook__.ipynb",
   "parameters": {},
   "start_time": "2022-10-31T20:21:44.658422",
   "version": "2.3.4"
  }
 },
 "nbformat": 4,
 "nbformat_minor": 5
}
